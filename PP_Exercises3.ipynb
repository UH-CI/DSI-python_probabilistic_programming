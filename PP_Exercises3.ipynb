{
 "cells": [
  {
   "cell_type": "markdown",
   "metadata": {
    "colab_type": "text",
    "id": "FSJt6pb5pAlm"
   },
   "source": [
    "# Chapter 3. Exercises"
   ]
  },
  {
   "cell_type": "markdown",
   "metadata": {
    "colab_type": "text",
    "id": "beNr8UFcsntI"
   },
   "source": [
    "## Exercise 1\n",
    "\n",
    "You are trying pick between two movies to watch based on their reviews: Movie 1 has 15 good reviews and 4 bad reviews and Movie 2 has 60 good reviews and 40 bad reviews. With this information, answer the following questions, treating each movie separately.\n",
    "\n",
    "\n",
    " 1. What is the range of a random variable, $R(X)$?\n",
    " \n",
    " 2. What probability distribution is most appropriate for the problem? What are its parameters?\n",
    "\n",
    " 3. Using PyMC3, generate a sample using the appropriate probability distribution and parameters. Make a graph of the distribution.\n",
    "\n",
    " 4. Compare your results for each of the movies, which one would you rather see based on your results from the reviews?\n",
    "  "
   ]
  },
  {
   "cell_type": "markdown",
   "metadata": {
    "colab_type": "text",
    "id": "DVgqDmDYssRj"
   },
   "source": [
    "## Exercise 2\n",
    "\n",
    "A gum ball machine has two flavors: strawberry (s) and orange (o). You are given the following previously observed data: \n",
    "\n",
    "[Gumball dataset](PP_Ex_3_2.txt)\n",
    "\n",
    "You want to know the probability of getting one flavor versus another. With this information, do the following:\n",
    "\n",
    "\n",
    " 1. What is the best probability distribution for this problem (hint: what distribution is used for returning one of two values?)\n",
    "\n",
    " 2.  Construct a model in PyMC3 using the appropriate distribution for the problem and find the posterior using the uninformative prior.\n",
    "    \n",
    " 3. Write some code (without using PyMC3) using the conjugate prior for the Bernoulli distribution to find the posterior.\n",
    "    \n",
    " 4. Which prior, if any, produces the better result? Why?"
   ]
  },
  {
   "cell_type": "markdown",
   "metadata": {
    "colab_type": "text",
    "id": "IRslkKR_W8u7"
   },
   "source": [
    "\n",
    "## Exercise 3\n",
    "\n",
    "A person is trying to cut a 6 foot rope in half. Upon multiple tries, you know the 99.7% of cuts will fall between 0 and 9 inches from the mean, so the standard deviation will be no greater than 0.25. You are interested in determining how accurate their hand-eye coordination is and are also given the following observed data:\n",
    "\n",
    "[Rope dataset](PP_Ex_3_3.txt)\n",
    "\n",
    "Construct a model in PyMC3 using the Gaussian distribution and the informative prior to find the posterior. "
   ]
  },
  {
   "cell_type": "markdown",
   "metadata": {
    "colab_type": "text",
    "id": "Dq3r9ufAs7dh"
   },
   "source": [
    "## Exercise 4\n",
    "\n",
    "A sushi resturant makes tuna and salmon rolls. In the past 30 days, the restaurant produced on average 110 tuna rolls and 340 salmon rolls per day. You are given the following observed data: \n",
    "\n",
    "[Sushi dataset](PP_Ex_3_4.txt)\n",
    "\n",
    "How many tuna and salmon rolls will be produced tomorrow?\n",
    "\n",
    " 1. Is the prior informative or uniformative? \n",
    "\n",
    " 2. Construct a model in PyMC3 using the appropriate distribution for the problem and find the posterior. \n",
    "\n",
    "\n",
    "\n",
    "\n"
   ]
  },
  {
   "cell_type": "markdown",
   "metadata": {
    "colab_type": "text",
    "id": "Q5lo4CmLxShy"
   },
   "source": [
    "## Exercise 5\n",
    "\n",
    "You go to your favorite poke shop to buy a poke bowl once a week. Each time you go, it looks like you recieve roughly the same quantity of poke, which looks like about 8 oz., however the poke isn't weighed when it is put in the bowl. What is the weight of the poke bowl?\n",
    "\n",
    "\n",
    "1. Solve this problem using grid approximation (hint: modify the code given in this chapter for grid approximation by taking out the 'switch' component).\n",
    "\n",
    "2. Solve this problem using a MCMC method of your choice. \n",
    "\n",
    "\n"
   ]
  },
  {
   "cell_type": "markdown",
   "metadata": {
    "colab_type": "text",
    "id": "coWXJ8uCtQLD"
   },
   "source": [
    "## Exercise 6\n",
    "\n",
    "There is a gameshow where contestants have to pick between two boxes, one contains a prize and the other is empty. You are interested in determining which box (1 or 2) people prefer to pick. You are given the following observed data:\n",
    "\n",
    "[Box dataset](PP_Ex_3_6.txt)\n",
    "\n",
    " 1. Construct and run a model in PyMC3 using the Metropolis algorithm to find the posterior.\n",
    "\n",
    " 2. Construct and run a model in PyMC3 using the NUTS algorithm to find the posterior.\n",
    "\n",
    " 3. Which algorithm produces a better result? Why?\n",
    "\n"
   ]
  },
  {
   "cell_type": "code",
   "execution_count": 0,
   "metadata": {
    "colab": {},
    "colab_type": "code",
    "collapsed": true,
    "id": "1qIjiVWZi0ms"
   },
   "outputs": [],
   "source": []
  }
 ],
 "metadata": {
  "colab": {
   "collapsed_sections": [],
   "name": "PP_Exercises3.ipynb",
   "provenance": [],
   "version": "0.3.2"
  },
  "kernelspec": {
   "display_name": "Python 3",
   "language": "python",
   "name": "python3"
  },
  "language_info": {
   "codemirror_mode": {
    "name": "ipython",
    "version": 3
   },
   "file_extension": ".py",
   "mimetype": "text/x-python",
   "name": "python",
   "nbconvert_exporter": "python",
   "pygments_lexer": "ipython3",
   "version": "3.6.3"
  }
 },
 "nbformat": 4,
 "nbformat_minor": 1
}
