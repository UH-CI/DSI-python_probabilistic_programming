{
 "cells": [
  {
   "cell_type": "markdown",
   "metadata": {
    "colab_type": "text",
    "id": "7YNpfPCFycKU"
   },
   "source": [
    "# Chapter 2\n",
    "# Exercises"
   ]
  },
  {
   "cell_type": "markdown",
   "metadata": {
    "colab_type": "text",
    "id": "Wtpx1kC4hqtw"
   },
   "source": [
    "## Exercise 1\n",
    "\n",
    "A passenger on a plane chooses a complimentary drink. The options are tea, coffee, juice, or water. \n",
    "\n",
    "What is the sample space $S$ for this random experiment?\n",
    "\n",
    "What subset of the sample space represents the event?\n",
    "    \n",
    "   a)   a passenger chooses juice or tea\n",
    "   \n",
    "   b)   a passenger chooses a hot drink\n",
    "   \n",
    "   c)   a passenger doesn't choose water\n",
    "   \n",
    "\n",
    "## Exercise 2\n",
    "\n",
    "A person is asked which of the Hawaiian islands (out of Kaua'i, O'ahu, Maui, Hawai'i) they have visited.\n",
    "\n",
    "What is the sample space $S$ for this random experiment? Note that someone could visit none of the islands, or several of them. \n",
    "Hint: there are 16 elements in the sample space.\n",
    "\n",
    "What is the subset of the sample space represents the event where:\n",
    "    \n",
    "   a)   a person only has been to Maui\n",
    "   \n",
    "   b)   a person has been to at least Maui\n",
    "   \n",
    "   c)   a person has been to one island.\n",
    "\n",
    "Suppose we are only interested in the number of islands visited. Then we can define a random variable $X$ that assigns the number of visited islands to each outcome. What is the range of a random variable $X$?\n",
    "\n",
    "Find the following:\n",
    "\n",
    "   a) $X(\\{\\text{O'ahu}\\})=$?\n",
    "   \n",
    "   b) $X(\\{\\text{Maui, Hawai'i}\\})=$?\n",
    "   \n",
    "   c) $X(\\{\\text{none}\\})=$?\n",
    "    \n",
    "A probability distribution assigns a probability to each value in the range of a random variable. The following graph represents the probability distribution of $X$.\n",
    "\n",
    "<img src='media/exercises2/graph.jpg' width=50%>\n",
    "\n",
    "Use the graph to find: \n",
    "    \n",
    "   a) $P(X=1)=$\n",
    "   \n",
    "   b) $P(X=0)=$\n",
    "   \n",
    "   c) $P(X=2)=$"
   ]
  },
  {
   "cell_type": "markdown",
   "metadata": {
    "colab_type": "text",
    "id": "h-BbSLXkMDka"
   },
   "source": [
    "## Exercise 3\n",
    "\n",
    "A surf shop is trying to get customers to sign up for their email listserv. In a one week period, 15 out of 50 customers signed up. \n",
    "   1. What is the probability that the next customer they ask to sign up for email updates will?\n",
    "   \n",
    "   2. What is the range of a random variable, $R(X)$?\n",
    "   \n",
    "   3. Is it discrete or continuous?\n",
    "   \n",
    "   4. What probability distribution is most appropriate to determine if the next customer will sign up for email updates? What are its parameters?\n",
    "   \n",
    "   5. Using PyMC3, generate a sample using the appropriate probability distribution and parameters. Make a graph of the distribution.\n"
   ]
  },
  {
   "cell_type": "markdown",
   "metadata": {
    "colab_type": "text",
    "id": "KsLWAr5gLtYR"
   },
   "source": [
    "## Exercise 4\n",
    "\n",
    "A teenager is asked how old they are. With this information, answer the following questions, which will help you determine what the teenager's age is.\n",
    "\n",
    "  1. What is the range of a random variable, $R(X)$?\n",
    "  \n",
    "  2. What probability distribution is most appropriate to determine what the teenager's age is? What are its parameters?\n",
    "  \n",
    "  3. Using PyMC3, generate a sample using the appropriate probability distribution and parameters. Make a graph of the distribution."
   ]
  },
  {
   "cell_type": "markdown",
   "metadata": {
    "colab_type": "text",
    "id": "eN--PeCKMKLL"
   },
   "source": [
    "## Exercise 5\n",
    "\n",
    "Consider a random experiment that describes the number of books an individual read during the year. According to Pew Research, Americans read an average of 12 books per year.\n",
    "\n",
    "   1. What is the range of a random variable, $R(X)$?\n",
    "   \n",
    "   2. What probability distribution is most appropriate to determine the number of books an individual read during the year? What are its parameters?\n",
    "   \n",
    "   3. Using PyMC3, generate a sample using the appropriate probability distribution and parameters. Make a graph of the distribution."
   ]
  },
  {
   "cell_type": "markdown",
   "metadata": {
    "colab_type": "text",
    "id": "rGhLOWpoMRvh"
   },
   "source": [
    "## Exercise 6\n",
    "\n",
    "You’ve ordered a pizza for delivery, which you anticipate will arrive anywhere from 10 to 30 minutes from now. With this information, answer the following questions, which will help you determine when your pizza will arrive:\n",
    "   \n",
    "   1. What is the range of a random variable, $R(X)$?\n",
    "   \n",
    "   2. What probability distribution is most appropriate to determine when your pizza will arrive? What are its parameters?\n",
    "   \n",
    "   3. Using PyMC3, generate a sample using the appropriate probability distribution and parameters. Make a graph of the distribution.\n"
   ]
  },
  {
   "cell_type": "markdown",
   "metadata": {
    "colab_type": "text",
    "id": "2tl-A8BPMVpF"
   },
   "source": [
    "## Exercise 7\n",
    "\n",
    "You've purchased a 1 lb pack of sugar and decide to weigh it. What is the actual weight of the pack of sugar?\n",
    "\n",
    "   1. What is the range of a random variable, $R(X)$?\n",
    "   \n",
    "   2. What probability distribution is most appropriate to determine what the weight of the sugar pack is? What are its parameters?\n",
    "   \n",
    "   3. Using PyMC3, generate a sample using the appropriate probability distribution and parameters. Make a graph of the distribution."
   ]
  },
  {
   "cell_type": "markdown",
   "metadata": {
    "colab_type": "text",
    "id": "ylFub2OnMrz2"
   },
   "source": [
    "## Exercise 8\n",
    "\n",
    "pymc3\n",
    "\n",
    "cut the rope in the middle. How good hand-eye coordination is"
   ]
  },
  {
   "cell_type": "code",
   "execution_count": 0,
   "metadata": {
    "colab": {},
    "colab_type": "code",
    "id": "sQr7_e29MCpV"
   },
   "outputs": [],
   "source": []
  }
 ],
 "metadata": {
  "colab": {
   "name": "PP_Exercises2.ipynb",
   "provenance": [],
   "version": "0.3.2"
  },
  "kernelspec": {
   "display_name": "Python 3",
   "language": "python",
   "name": "python3"
  },
  "language_info": {
   "codemirror_mode": {
    "name": "ipython",
    "version": 3
   },
   "file_extension": ".py",
   "mimetype": "text/x-python",
   "name": "python",
   "nbconvert_exporter": "python",
   "pygments_lexer": "ipython3",
   "version": "3.6.3"
  }
 },
 "nbformat": 4,
 "nbformat_minor": 1
}
