{
 "cells": [
  {
   "cell_type": "markdown",
   "metadata": {
    "colab_type": "text",
    "id": "V-RLSdE2btZ8"
   },
   "source": [
    "# Probabilistic Programming\n",
    "\n",
    "---\n",
    "\n",
    "\n",
    "---"
   ]
  },
  {
   "cell_type": "markdown",
   "metadata": {
    "colab_type": "text",
    "id": "bdG46NBbeBCv"
   },
   "source": [
    "## **Chapter 1. Introduction**\n",
    "\n",
    "\n",
    "---\n",
    "Have you ever wondered the probability of having certain diseases given specific symptoms or how companies select interface designs for their website? Questions like these are often addressed using complicated statistical calculations. This module introduces probabilistic programming, an approach for data analysis that is significantly easier to understand, interpret, and implement. We will cover introductory background information, including the basics of probability and statistics, as well as discuss 'how-to' create and program probabilistic models in Python.\n",
    "\n",
    "Similar to aspects of human cognition, probabilistic programming relies on inference based on prior beliefs, i.e., what we know or think about something. Probabilistic programming can be used to predict future outcomes and is considered a generative approach, meaning that we reason about the problem in terms of a process that generates the data, which is the main topic discussed in this chapter. We also introduce some of the fundamental concepts of probabilistic programming using intuition, and later elaborate on these concepts.\n"
   ]
  },
  {
   "cell_type": "markdown",
   "metadata": {
    "colab_type": "text",
    "id": "vaRT0lcceGPO"
   },
   "source": [
    "## What is Probabilistic Programming?\n",
    "\n",
    "\n",
    "---\n",
    "<a id='prob prog'>*Probabilistic programming*</a> is a tool that allows one to answer a question using logic, intuition, and <a id='prob'>probability</a> (i.e., the odds of an event occuring, which is expressed as the number of sucesses over the total number of objects or measurements) and can be used for variety of tasks, including prediction, anomaly detection, etc. As a technique, probabilistic programming combines probability theory, statistical inference, and computer programming to model a system and solve a problem. One advantage of probabilistic programming is that it is intuitive to learn and apply compared to traditional (or [frequentist](https://en.wikipedia.org/wiki/Frequentist_probability)) statistics, and provides a coherent understanding of the solutions, compared to many of the popular black box-type algorithms commonly used in machine learning.\n",
    "\n",
    "<img src=\"media/chapter1/reference.jpg\">\n",
    "\n",
    "<img src=\"media/chapter1/kruschke.jpg\">\n",
    "\n",
    "<a id='example1.1'></a>\n",
    "### Example 1.1: Constructing a Generative Model\n",
    "\n",
    "A patient goes into the doctor with symptoms of an illness. We can determine the probability that a patient has a certain illness given their symptoms. For simplicity, let's assume that there are three possible illnesses a patient may have, and that a patient only has exactly one of the three.\n",
    "\n",
    "1. bronchitis\n",
    "2. common cold\n",
    "3. seasonal allergies\n",
    "\n",
    "\n",
    "For these three illnesses, there are three possible symptoms which indicate one of the three illnesses.\n",
    "\n",
    "1. fever\n",
    "2. coughing\n",
    "3. sneezing\n",
    "\n",
    "Suppose we also know the degree to which these three diseases influence symptoms of fever, coughing, and sneezing. For instance, we know that patients with a cold have a fever 10% of the time, sneeze 50% of the time and cough 40% of the time. We can use this information to determine the probability that the patient has seasonal allergies or the common cold. The first step in tackling the problem is to create a generative model."
   ]
  },
  {
   "cell_type": "markdown",
   "metadata": {
    "colab_type": "text",
    "id": "T7FmpdUqP917"
   },
   "source": [
    "## Generative models\n",
    "---\n",
    "A model that describes the dependencies between previous knowledge and data with statistics and probability is called a <a id='gen model'>*generative model*</a>. A generative model takes the probability of an event occuring from known data and uses it to generate new data. The simplest representation of a generative model is a graphical one. A graphical generative model illustrates <a id='state'>*states*</a> as boxes and these boxes are connected by **one-sided** arrows to illustrate <a id='dependency'>*dependencies*</a>.\n",
    "\n",
    "Let's start with just looking at a generative model factoring in only the common cold. In this example, considering 10 people with a cold, 1 has a fever, 4 have a cough, and 5 people are sneezing. Each box represents a state (in this example, the boxes are the potential disease or symptoms) and the numbers next to the the arrows illustrate the probability of having an illness resulting in a symptom.The generative model for the cold and its symptoms (assuming an individual with a cold only has one symptom) is below:\n",
    "\n",
    "<img src=\"media/chapter1/gen_model_cold.jpg\">\n",
    "\n",
    "A generative model is typically inferred based on knowledge and understanding of the problem. Generative models are called 'generative' because they illustrate how the data is generated. The code below shows how one can generate a patient with a symptom in Python."
   ]
  },
  {
   "cell_type": "code",
   "execution_count": 1,
   "metadata": {
    "colab": {
     "base_uri": "https://localhost:8080/",
     "height": 34
    },
    "colab_type": "code",
    "id": "y8Y8x3FoQAqt",
    "outputId": "7617c453-f416-4a67-8852-aca80b60cab1"
   },
   "outputs": [
    {
     "name": "stdout",
     "output_type": "stream",
     "text": [
      "sneezing\n"
     ]
    }
   ],
   "source": [
    "# generative model for cold example\n",
    "import random\n",
    "\n",
    "\n",
    "# number of people with symptom out of 10\n",
    "# (f = fever, s = sneezing, c = coughing)\n",
    "\n",
    "fever = 1   # number of people with a cold & fever\n",
    "cough = 4   # number of people with a cold & a cough\n",
    "sneeze = 5   # number of people with a cold & a sneeze\n",
    "\n",
    "# create list based off of number of people with cold\n",
    "\n",
    "cold = ['fever'] * fever + ['coughing'] * cough + ['sneezing'] * sneeze\n",
    "\n",
    "patient_symptom = random.choice(cold)\n",
    "\n",
    "print(patient_symptom)"
   ]
  },
  {
   "cell_type": "markdown",
   "metadata": {},
   "source": [
    "We used function `choice()` from <a href=\"https://docs.python.org/2/library/random.html\">`random` package</a> to generate a patient with a symptom. `choice(cold)` returns a random element from the non-empty sequence `cold`. In our example sequence `cold` consists of 1 `'fever'`, 4 `'coughing'` and 5 `'sneezing'`, according to the known proportions of symptoms ($1/10$, $4/10$ and $5/10$ respectively). "
   ]
  },
  {
   "cell_type": "markdown",
   "metadata": {
    "colab_type": "text",
    "id": "a0wY9v4leIkj"
   },
   "source": [
    "Let's now return to our original <a href='#example1.1'>example</a> and create a generative model for it. lllnesses with symptoms similar to those arising in a patient with a cold can be illustrated using the diagram below:\n",
    "\n",
    "![](media/chapter1/gen_model_illness.jpg)\n",
    "\n",
    "\n",
    "As stated above, for the purposes of this problem, we know how much each illness influences the symptoms presented. For instance, we know the probability of a patient having a cold, as well as the probability of a patient who has a cold having sneezing as a symptom (we will discuss how these values, which are called parameters, are derived later).\n",
    "\n",
    "The probability of a patient having the common cold is 4/10, that is, every 4 out of 10 patients who come to the doctor are diagnosed with a cold. Similarly, we know that every 5/10 patients who come to the doctor have seasonal allergies and every 1/10 patients has bronchitis.\n",
    "\n",
    "We also know the probability that a certain illness will exhibit symptoms of fever, coughing, and sneezing (again, for the purposes of this example, a patient with an illness will only have one symptom).\n",
    "\n",
    "**Bronchitis**: 2/10 patients with bronchitis have a fever, and 8/10 have a cough. Sneezing is, in this example, not a symptom (0/10 patients) of bronchitis.\n",
    "\n",
    "**Common cold**: 1/10 patients with the common cold have a fever, 4/10 patients have a cough, and 5/10 patients are sneezing. \n",
    "\n",
    "**Seasonal allergies**: 3/10 patients with seasonal allergies have a cough, and 7/10 patients are sneezing. Fever is not a symptom (again, 0/10 patients) of seasonal allergies.\n",
    "\n",
    "The following tables summarize the probability that a patient has a certain illness and the probability that that illness would cause a patient to have specific symptoms.\n",
    "\n",
    "<html>\n",
    "<table style=\"width:50%\" align=\"center\">\n",
    "  <tr>\n",
    "    <th>      </th>\n",
    "    <th><b><center>Probability that patient has illness</center></b></th>\n",
    "  </tr>\n",
    "  <tr>\n",
    "    <td><b><center>Bronchitis</center></b></td>\n",
    "    <td><center>1/10</center></td>\n",
    "  </tr>\n",
    "  <tr>\n",
    "    <td><b><center>Common cold</center></b></td>\n",
    "    <td><center>4/10</center></td> \n",
    "  </tr>\n",
    "    <tr>\n",
    "     <td><b><center>Seasonal allergies</center></b></td>\n",
    "    <td><center>5/10</center></td> \n",
    "  </tr>\n",
    "</table>\n",
    "<br>\n",
    "<br>\n",
    "\n",
    "<table style=\"width:50%\">\n",
    "  <tr>\n",
    "    <th>      </th>\n",
    "    <th><b><center>Probability that illness has symptoms of fever</center></b></th>\n",
    "    <th><b><center>Probability that illness has symptoms of coughing</center></b></th> \n",
    "    <th><b><center>Probability that illness has symptoms of sneezing</center></b></th>\n",
    "  </tr>\n",
    "  <tr>\n",
    "    <td><b><center>Bronchitis</center></b></td>\n",
    "    <td><center>2/10</center></td>\n",
    "    <td><center>8/10</center></td> \n",
    "    <td><center>0/10</center></td>\n",
    "  </tr>\n",
    "  <tr>\n",
    "    <td><b><center>Common cold</center></b></td> \n",
    "    <td><center>1/10</center></td>\n",
    "    <td><center>4/10</center></td>\n",
    "     <td><center>5/10</center></td>\n",
    "  </tr>\n",
    "    <tr>\n",
    "      <td><b><center>Seasonal allergies</center></b></td> \n",
    "    <td><center>0/10</center></td>\n",
    "     <td><center>3/10</center></td>\n",
    "     <td><center>7/10</center></td>\n",
    "  </tr>\n",
    "</table>\n",
    "  </html>\n",
    "    \n",
    "\n",
    "With this information, we built the graphical generative model above. Now let's observe the data generated from our model, or more specifically, generate a patient with a symptom.\n"
   ]
  },
  {
   "cell_type": "code",
   "execution_count": null,
   "metadata": {
    "cellView": "form",
    "colab": {
     "base_uri": "https://localhost:8080/",
     "height": 202
    },
    "colab_type": "code",
    "id": "4hxlm8IAGtMv",
    "outputId": "6cd56bb5-5531-4297-b44e-4395905d0cb1"
   },
   "outputs": [],
   "source": [
    "# @hidden_cell\n",
    "#@title\n",
    "#code will be hidden\n",
    "# generative model for disease example\n",
    "from ipywidgets import widgets, Output\n",
    "import random\n",
    "from IPython.display import HTML, display\n",
    "\n",
    "\n",
    "button = widgets.Button(description = \"Run the experiment!\")\n",
    "display(button)\n",
    "out=Output()\n",
    "\n",
    "bronch_link='media/chapter1/bronchitis.jpg'\n",
    "cold_link='media/chapter1/cold.jpg'\n",
    "al_link='media/chapter1/allergy.jpg'\n",
    "bronch_guy=\"<td><img src=\"+bronch_link+\"></td>\"\n",
    "cold_guy=\"<td><img src=\"+cold_link+\"></td>\"\n",
    "al_guy=\"<td><img src=\"+al_link+\"></td>\"\n",
    "black_link='media/chapter1/black.jpg'\n",
    "black_guy=\"<td><img src=\"+black_link+\"></td>\"\n",
    "arrow_link='media/chapter1/arrowside.jpg'\n",
    "arrow=\"<td><img src=\"+arrow_link+\"></td>\"\n",
    "\n",
    "b_c = 'media/chapter1/br_c.jpg'\n",
    "b_f = 'media/chapter1/br_f.jpg'\n",
    "b_s = ''\n",
    "c_c = 'media/chapter1/cold_c.jpg'\n",
    "c_f = 'media/chapter1/cold_f.jpg'\n",
    "c_s = 'media/chapter1/cold_s.jpg'\n",
    "a_c = 'media/chapter1/al_c.jpg'\n",
    "a_f = ''\n",
    "a_s = 'media/chapter1/al_s.jpg'\n",
    "cough_dis = [\"<td><img src=\"+b_c+\"></td>\",\"<td><img src=\"+c_c+\"></td>\",\"<td><img src=\"+a_c+\"></td>\"]\n",
    "sneeze_dis = [\"<td><img src=\"+b_s+\"></td>\",\"<td><img src=\"+c_s+\"></td>\",\"<td><img src=\"+a_s+\"></td>\"]\n",
    "fever_dis = [\"<td><img src=\"+b_f+\"></td>\", \"<td><img src=\"+c_f+\"></td>\", \"<td><img src=\"+a_f+\"></td>\"]\n",
    "\n",
    "\n",
    "\n",
    "\n",
    "# number of people with illness out of 10 \n",
    "#(br = bronchitis, cold = cold, al = allergies)\n",
    "\n",
    "ppl_br = 1\n",
    "ppl_cold = 4\n",
    "ppl_al = 5\n",
    "\n",
    "# create list based off of number of people with illness\n",
    "illness = ['bronchitis'] * ppl_br + ['cold'] * ppl_cold + ['allergies'] * ppl_al\n",
    "\n",
    "\n",
    "# number of people with illness with symptom \n",
    "# (f = fever, s = sneezing, c = coughing)\n",
    "\n",
    "ppl_br_f = 2     # number of people with bronchitis & fever\n",
    "ppl_br_c = 8     # number of people with bronchitis & a cough\n",
    "\n",
    "ppl_cold_f = 1   # number of people with a cold & fever\n",
    "ppl_cold_c = 4   # number of people with a cold & a cough\n",
    "ppl_cold_s = 5   # number of people with a cold & a sneeze\n",
    "\n",
    "ppl_al_c = 3     # number of people with allergies & a cough\n",
    "ppl_al_s = 7     # number of people with allergies & a sneeze\n",
    "\n",
    "bronchitis = ['fever'] * ppl_br_f + ['coughing'] * ppl_br_c\n",
    "cold = ['fever'] * ppl_cold_f + ['coughing'] * ppl_cold_c + ['sneezing'] * ppl_cold_s\n",
    "allergies = ['coughing'] * ppl_al_c + ['sneezing'] * ppl_al_s\n",
    "\n",
    "def on_button_clicked(b):\n",
    "    guys=black_guy+arrow\n",
    "    ill = 0\n",
    "    patient_illness = random.choice(illness)\n",
    "\n",
    "    if patient_illness == 'bronchitis':\n",
    "      patient_symptom = random.choice(bronchitis)\n",
    "      guys = guys + bronch_guy\n",
    "      ill = 0\n",
    "    if patient_illness == 'cold':\n",
    "      patient_symptom = random.choice(cold)\n",
    "      guys = guys + cold_guy\n",
    "      ill = 1\n",
    "    if patient_illness == 'allergies':\n",
    "      patient_symptom = random.choice(allergies)\n",
    "      guys = guys + al_guy\n",
    "      ill = 2\n",
    "\n",
    "    guys = guys + arrow\n",
    "  \n",
    "    if patient_symptom == 'fever':\n",
    "      guys = guys + fever_dis[ill]\n",
    "    if patient_symptom == 'coughing':\n",
    "      guys = guys + cough_dis[ill]\n",
    "    if patient_symptom == 'sneezing':\n",
    "      guys = guys + sneeze_dis[ill]\n",
    "    \n",
    "    out.clear_output()\n",
    "    with out:\n",
    "        display(HTML(\"<table><tr>\"+guys+\"</tr></table>\"))\n",
    "  \n",
    "display(out)\n",
    "\n",
    "button.on_click(on_button_clicked)"
   ]
  },
  {
   "cell_type": "markdown",
   "metadata": {
    "colab_type": "text",
    "id": "_gF_OwJsGsxN"
   },
   "source": [
    "Later with the help of mathematics and probability theory we will be able to answer questions such as: \n",
    "\n",
    "* What is a probability that a patient has a cough? \n",
    "* What is the probability that a person who is sneezing has seasonal allergies versus the common cold? \n",
    "\n",
    "Such computations can be very time consuming as the model gets increasingly complex. Instead, we can answer our questions with the help of a computer, or more specifically with probabilistic programming. In later chapters, we will discuss the specifics on how to model this in Python.\n",
    "\n",
    "The example above illustrates how to create a generative model. To solidify the material, try to answer the following questions."
   ]
  },
  {
   "cell_type": "markdown",
   "metadata": {
    "colab_type": "text",
    "id": "QTdAdmdAWIWd"
   },
   "source": [
    "### Quiz 1.1\n",
    "\n",
    "\n",
    "---\n",
    "\n",
    "1.   Which of the pictures below could be a graphical representation of a generative model?\n",
    "\n",
    "<img src=\"media/chapter1/quiz1_1.jpg\" width=\"400\">\n",
    "\n",
    "\n",
    "2.   New research has shown that out of $20$ people $2$ have a fever, $5$ have a cough, $6$ people are sneezing and $7$ have a sore throat. \n",
    "\n",
    "\n",
    "   *   What is the probability that a patient coming to a doctor has a cough?\n",
    "   \n",
    "          a)$2/20$   \n",
    "          \n",
    "          b)$5/20$   \n",
    "          \n",
    "          c)$6/20$   \n",
    "          \n",
    "          d)$7/20$\n",
    "        \n",
    "        \n",
    "   *   What is the probability that a patient coming to a doctor has a sore throat?\n",
    "   \n",
    "          a)$2/20$\n",
    "          \n",
    "          b)$5/20$   \n",
    "          \n",
    "          c)$6/20$   \n",
    "          \n",
    "          d)$7/20$\n",
    "        \n",
    "        \n",
    "   * Let's update the code from the example above to fit the new model. We had three variables representing the symptoms, and we need to add another variable `sorethroat`. What should be the values of these variables? Recall that they denote the number of patients having the symptom.\n",
    "       \n",
    "\n",
    "```\n",
    "import random\n",
    "\n",
    "fever =    \n",
    "cough =    \n",
    "sneeze =    \n",
    "sorethroat = \n",
    "\n",
    "cold = ['fever'] * fever + ['coughing'] * cough + ['sneezing'] * sneeze\n",
    "                              + ['sore throat'] * sorethroat\n",
    "\n",
    "patient_symptom = random.choice(cold)\n",
    "\n",
    "print(patient_symptom)\n",
    "```\n",
    "\n"
   ]
  },
  {
   "cell_type": "markdown",
   "metadata": {
    "colab_type": "text",
    "id": "gogRHTO7Vs1E"
   },
   "source": [
    "Let's now look at another example and actually solve it!"
   ]
  },
  {
   "cell_type": "markdown",
   "metadata": {
    "colab_type": "text",
    "id": "3HW9bzksqkQd"
   },
   "source": [
    "<a id=\"example1.2\"></a>\n",
    "### Example 1.2. A/B testing\n",
    "\n",
    "---\n",
    "\n",
    "A company has a website and they want visitors to sign up for email updates. They have hired you to determine which visual is optimal: Version A or Version B.\n",
    "\n",
    "![](media/chapter1/ab.jpg)\n",
    "\n",
    "Which version of the graphic will result in more people signing up for email updates? A/B testing is an approach that can be used to answer this question. The method used in A/B testing consists of testing Version A on one group of people and Version B on another, then estimating the number of people that sign up when presented with each version, and comparing them to see which one is better.\n",
    "\n",
    "\n",
    "\n",
    "Before constructing a generative model for A/B testing, let's first try a simpler problem, namely one person that is tested with Version A. The generative model for one person can be described with the following illustration.\n",
    "\n",
    "![](media/chapter1/ab_user.jpg)"
   ]
  },
  {
   "cell_type": "markdown",
   "metadata": {
    "colab_type": "text",
    "id": "SResVk9Oz6NB"
   },
   "source": [
    "For the time being, we are fixing $5$/$10$, the probability of one person signing up, because we don't yet have observations that suggest otherwise. A generative model creates data - by clicking the button below (try clicking it 5 times and keep track of the number of positive (green) and negative (red) responses), you are generating data for the model. Each time we run the generative model, we can have different outcomes."
   ]
  },
  {
   "cell_type": "code",
   "execution_count": null,
   "metadata": {
    "cellView": "form",
    "colab": {
     "base_uri": "https://localhost:8080/",
     "height": 445
    },
    "colab_type": "code",
    "id": "bAL20h-or_eb",
    "outputId": "4ebf6c3d-6e16-42ae-a235-5b8093bea2b3"
   },
   "outputs": [],
   "source": [
    "# @hidden_cell\n",
    "#@title\n",
    "#this will be hidden\n",
    "\n",
    "from IPython.display import HTML, display\n",
    "from ipywidgets import widgets, Output\n",
    "import matplotlib.pyplot as plt\n",
    "import numpy as np\n",
    "import scipy.stats as st\n",
    "\n",
    "p=0.5\n",
    "\n",
    "button = widgets.Button(description = \"Run the experiment!\")\n",
    "display(button)\n",
    "out=Output()\n",
    "display(out)\n",
    "\n",
    "green_link='media/chapter1/green.jpg'\n",
    "red_link='media/chapter1/red.jpg'\n",
    "black_link='media/chapter1/black.jpg'\n",
    "arrow_link='media/chapter1/arrow.jpg'\n",
    "green_guy=\"<td><img src=\"+green_link+\"></td>\"\n",
    "red_guy=\"<td><img src=\"+red_link+\"></td>\"\n",
    "black_guy=\"<td><img src=\"+black_link+\"></td>\"\n",
    "arrow=\"<td><img src=\"+arrow_link+\"></td>\"\n",
    "\n",
    "\n",
    "\n",
    "def on_button_clicked(b):\n",
    "    number_guys = 0\n",
    "    test=st.bernoulli.rvs(p, size=1)\n",
    "    guys=\"\"\n",
    "    for item in test:\n",
    "      if item==1:\n",
    "        guys=guys+green_guy\n",
    "      else:\n",
    "        guys=guys+red_guy\n",
    "      number_guys+=item\n",
    "    \n",
    "    out.clear_output()\n",
    "    with out:\n",
    "        display(HTML(\"<table><tr>\"+black_guy+\"</tr></table>\"))\n",
    "        display(HTML(\"<table><tr>\"+arrow+\"</tr></table>\"))\n",
    "        display(HTML(\"<table><tr>\"+guys+\"</tr></table>\"))\n",
    "\n",
    "\n",
    "button.on_click(on_button_clicked)"
   ]
  },
  {
   "cell_type": "markdown",
   "metadata": {
    "colab_type": "text",
    "id": "tkVuXwjEtzLC"
   },
   "source": [
    "Let's return to the original problem. For this problem, we are making the following assumptions:\n",
    "\n",
    "1.   For both Versions A and B, there is an associated probability that an individual will respond positively.\n",
    "2.   The probability of a positive response does not vary between individuals.\n",
    "\n",
    "These assumptions allow us simulate people signing up using a generative model.\n",
    "\n",
    "In order to perform A/B testing for Version A, we need to run this experiment on a testing group of say, 8 people. Instead of running the experiment introduced above on each person from a testing group, we can take an equivalent shortcut using the *binomial distribution*,  which arrives at the same answer, the number of sign ups. \n",
    "\n",
    "The <a id='bin dist'>*binomial distribution*</a> describes the probability of all possible outcomes of the experiment. The binomial distribution is performed for a number of objects $n$ (number of people in a testing group, in our example $n=8$) and the probability of success $p$ (that is, the probability of a sign up, so far we assumed $p=5/10=0.5$). Note that the probability of success $p$ is a number between $0$ and $1$.\n",
    "\n",
    "\n",
    "Let's see how the distribution can create data. By clicking the button once you can observe how one outcome of the binomial distribution is generated. That is, each of 8 people either signs up (green) or not (red) with probability $p$. The binomial distribution returns the number of green users, which is added to a histogram below. A <a id='hist'>*histogram*</a> is a type of graph which shows the frequency or number of counts for numerical data in bins. If you click the button several more times, you will see how different outcomes are added to a histogram. Note that some numbers are generated more often than others.\n",
    "\n"
   ]
  },
  {
   "cell_type": "code",
   "execution_count": null,
   "metadata": {
    "cellView": "form",
    "colab": {
     "base_uri": "https://localhost:8080/",
     "height": 520
    },
    "colab_type": "code",
    "id": "ruuj6PmNTmvZ",
    "outputId": "3659593c-3f1a-45f8-dedf-62bf6f9a4bde"
   },
   "outputs": [],
   "source": [
    "# @hidden_cell\n",
    "#@title\n",
    "#this will be hidden\n",
    "import matplotlib.pyplot as plt\n",
    "import numpy as np\n",
    "import scipy.stats as st\n",
    "from ipywidgets import widgets, Output\n",
    "from IPython.display import HTML, display\n",
    "\n",
    "button = widgets.Button(description = \"Run the experiment!\")\n",
    "display(button)\n",
    "out=Output()\n",
    "display(out)\n",
    "\n",
    "dist_values=[0]*9\n",
    "\n",
    "green_link='media/chapter1/green.jpg'\n",
    "red_link='media/chapter1/red.jpg'\n",
    "green_guy=\"<td><img src=\"+green_link+\"></td>\"\n",
    "red_guy=\"<td><img src=\"+red_link+\"></td>\"\n",
    "\n",
    "def on_button_clicked(b):\n",
    "    p=0.5\n",
    "    test=st.bernoulli.rvs(p, size=8)\n",
    "    guys=\"\"\n",
    "    number_guys = 0\n",
    "    for item in test:\n",
    "      if item==1:\n",
    "        guys=guys+green_guy\n",
    "      else:\n",
    "        guys=guys+red_guy\n",
    "      number_guys+=item\n",
    "    out.clear_output()\n",
    "    dist_values[number_guys]+=1\n",
    "    fig = plt.figure(figsize=(14,5))\n",
    "    plt.style.use('seaborn-darkgrid')\n",
    "    x = np.arange(0, 9)\n",
    "    ns = [8]\n",
    "    ps = [p]\n",
    "    for n, p in zip(ns, ps):\n",
    "        plt.bar(x, dist_values)\n",
    "    plt.bar(x[number_guys],dist_values[number_guys],color='green')\n",
    "    plt.xlabel('number of sign ups', fontsize=14)\n",
    "    plt.ylabel('counts', fontsize=14)\n",
    "    plt.xticks(range(0,9))\n",
    "    with out:\n",
    "        display(HTML(\"<table><tr>\"+guys+\"</tr></table>\"))\n",
    "        plt.show()\n",
    "#plt.yticks([]);\n",
    "#plt.legend(loc=1)\n",
    "\n",
    "\n",
    "button.on_click(on_button_clicked)"
   ]
  },
  {
   "cell_type": "markdown",
   "metadata": {
    "colab_type": "text",
    "id": "2nOCT2k7LcFt"
   },
   "source": [
    "If one repeats the experiment many times, the graph will look as follows in the long run.\n",
    "\n",
    "<img src=\"media/chapter1/longrun.png\">\n"
   ]
  },
  {
   "cell_type": "markdown",
   "metadata": {
    "colab_type": "text",
    "id": "yB2VJ18QvbPF"
   },
   "source": [
    "### Quiz 1.2\n",
    "\n",
    "\n",
    "---\n",
    "\n",
    "1. A coin is flipped 260 times. It s known that the coin is not fair, and that the probability of getting heads is $0.3$, while the probability of getting tails is $0.7$. At the end of experiment we compute how many flips resulted in **heads**. Such an experiment can be described with the binomial distribution. What are the parameters of this distribution?\n",
    "\n",
    "  * parameter $n$ that describes the number of objects in a distribution is:\n",
    "          \n",
    "       a) $n = 1$\n",
    "          \n",
    "       b) $n = 2$\n",
    "          \n",
    "       c) $n = 78$\n",
    "          \n",
    "       d) $n = 182$\n",
    "          \n",
    "       e) $n = 260$\n",
    "                   \n",
    "   * parameter $p$ that describes the probability of success is:\n",
    "\n",
    "       a) $p = 0.3$\n",
    "          \n",
    "       b) $p = 0.5$\n",
    "         \n",
    "       c) $p = 0.7$\n",
    "\n",
    "\n",
    "\n",
    "\n",
    "2. Which of the following graphs are histograms?\n",
    "\n",
    "<img src=\"media/chapter1/quiz2_1.jpg\" width=\"500\">\n"
   ]
  },
  {
   "cell_type": "markdown",
   "metadata": {
    "colab_type": "text",
    "id": "FIn2X2I7D9In"
   },
   "source": [
    "\n",
    "We know how we can generate this data if we have knowledge about $p$. At this point, however, we don’t yet know $p$ (the probability per individual of a positive response), which is precisely the information we need to decide which version is better!"
   ]
  },
  {
   "cell_type": "markdown",
   "metadata": {
    "colab_type": "text",
    "id": "aqB7zpc358xw"
   },
   "source": [
    "## Observations\n",
    "\n",
    "To address this unknown $p$ for our model, we can run an experiment to generate observed data. Version A was tested on $8$ people and after running the test, $5$ out of $8$ users shown the first version of the graphic signed up for email updates. \n",
    "\n",
    "We also tested Version B - where the graphic of Version B was shown to $10$ people, and only $2$ out of $10$ people signed up for email updates. Knowing these experimental results, which version is better for recruiting more new users? Clearly, 5 out of 8 users is better than 2 out of 10, but we are interested not only in a single answer, as it also would be better to quantify our confidence that Version A is better than Version B. Probabilistic programming can help with that. \n",
    "\n",
    "\n",
    "![](media/chapter1/ab_test.jpg)\n",
    "\n",
    "\n",
    "\n"
   ]
  },
  {
   "cell_type": "markdown",
   "metadata": {
    "colab_type": "text",
    "id": "feFOS2XKOR3e"
   },
   "source": [
    "So, now we know how our model works. But we don't know anything about the parameter $p$ of the binomial distribution for each version, which is important for us to know in order to compare the two versions. We want to learn about this parameter. \n",
    "\n",
    "\n",
    "## Rejection Sampling\n",
    "\n",
    "For simplicity, let's only consider Version A for the time being. How can we determine the most likely value of parameter $p$ for Version A? For that we will use a simple algorithm, or recipe, for Bayesian Inference, called <a id='rej'>*rejection sampling*</a>.  Rejection sampling can be applied using the following steps:\n",
    "\n",
    "1.   Sample a parameter value from the set of possible values of $p$, or the prior (in our example set of possible values of $p$ is between $0$ and ,$1$).\n",
    "2.   Generate an outcome, given that parameter value (in our example, run the test that is described by binomial distribution with parameter $p$ and number of people $8$)\n",
    "\n",
    "3.  *   If the generated outcome is the observed data, record the value of the parameter $p$\n",
    "   *   If the generated outcome is not the observed data, ignore the parameter $p$\n",
    "4.   Repeat the procedure many times.\n",
    "\n",
    "![](media/chapter1/rejection.jpg)\n",
    "\n",
    "After we run the above procedure many times, say 1,000 times, we look at all the parameters $p$ that we accepted (recorded), and look at its histogram. At first, we assumed that $p$ can be any number between $0$ and $1$. Now using rejection sampling, we can see that some values of $p$ occur more often when we have information about the observed data.\n",
    "\n",
    "Now we know how to infer the parameter for one of the strategies. The generative model for the Version B is similar, except it was tested on $10$ people, and $2$ responded positively. So if we want to infer about parameter $p$ for Version B we have to follow the same algorithm, but with $10$ people instead of $8$ in the binomial distribution.\n",
    "\n",
    "Since we want to compare the parameters for each of the strategies, we need to combine both procedures. Before, each procedure recorded possible parameter $p$ that satisfied the observed data. Now we are going to record a pair of parameters ($p_A$ and $p_B$) and the observed data becomes a pair of numbers ($5$ and $2$). The algorithm becomes the following.\n",
    "\n",
    "1.   Sample a parameter value for method A ($p_A$) and parameter value for method B ($p_B$) randomly between $0$ and $1$. In this example (and examples to follow where we generate data from a probability distribution, we use the [NumPy](http://www.numpy.org/) Python package). \n",
    "2.   Generate an outcome for Version A, given that parameter value (in our example, run the test that is described by the binomial distribution with parameter $p_A$ and number of people $8$), and generate an outcome for Version B, given that parameter value (in our example, run the test that is described by the binomial distribution with parameter $p_B$ and number of people $10$).\n",
    "3.    *   If both generated outcomes are the same as the observed data, record the parameter values $p_A$ and $p_B$\n",
    "     *   Otherwise, throw the parameters away\n",
    "4.   Repeat the procedure many times.\n",
    "\n",
    "This gives us two histograms that describe the behavior of parameters for both strategies $p_A$ and $p_B$. \n",
    "\n"
   ]
  },
  {
   "cell_type": "code",
   "execution_count": null,
   "metadata": {
    "colab": {
     "base_uri": "https://localhost:8080/",
     "height": 366
    },
    "colab_type": "code",
    "id": "7m4d4ALBl_Ti",
    "outputId": "12ead134-432c-49a5-d130-c23de14579d4",
    "scrolled": true
   },
   "outputs": [],
   "source": [
    "# import packages\n",
    "import numpy as np\n",
    "import matplotlib.pyplot as plt\n",
    "\n",
    "# Version A\n",
    "n_A = 8        # number of people Version A was tested on\n",
    "obs_A = 5      # observed number of sign ups for Version A\n",
    "# Version B\n",
    "n_B = 10       # number of people Version B was tested on\n",
    "obs_B = 2      # observed number of sign ups for Version B\n",
    "\n",
    "p_A_recorded = []\n",
    "p_B_recorded = []\n",
    "\n",
    "num_of_repeats = 10000\n",
    "\n",
    "for i in range(num_of_repeats):\n",
    "  # Sample parameter values p_A and p_B using numpy from the uniform distribution \n",
    "  p_A = np.random.uniform(0, 1)\n",
    "  p_B = np.random.uniform(0, 1)\n",
    "\n",
    "  # For each p_A and p_B generate an outcome from the binomal distribution using numpy \n",
    "  v_A = np.random.binomial(n_A, p_A)\n",
    "  v_B = np.random.binomial(n_B, p_B)\n",
    "\n",
    "  # Compare generated outcomes to the observed data\n",
    "  if v_A == obs_A and v_B ==obs_B:\n",
    "    p_A_recorded.append(p_A)\n",
    "    p_B_recorded.append(p_B)\n",
    "\n",
    "nbins = 10\n",
    "\n",
    "  # plot histogram \n",
    "fig = plt.figure() \n",
    "plt.xlim(0, 1)\n",
    "plt.hist(p_A_recorded, histtype='stepfilled', bins = nbins, alpha = 0.75,\n",
    "        label = \"Version A\", color = \"#A60628\", normed = False)\n",
    "plt.hist(p_B_recorded, histtype='stepfilled', bins = nbins, alpha = 0.75\n",
    "         label = \"Version B\", color = \"#467821\", normed = False)\n",
    "plt.title(\"Number of Recorded Values for Version A vs Version B\")\n",
    "plt.legend(loc = 'upper right', fontsize=14)\n",
    "plt.show()\n"
   ]
  },
  {
   "cell_type": "markdown",
   "metadata": {
    "colab_type": "text",
    "id": "GGizV0W7l8oz"
   },
   "source": [
    "The histograms for Versions A and B show that Version A results in a greater number of people signing up for email updates compared to Version B. Version A is thus the best strategy.\n",
    "\n",
    "In this example we were able to apply a very simple method of Bayesian inference to determine the optimal solution. We sampled parameter values for $p_A$ and $p_B$ based off of our observed data, used those parameters to generate results from the binomial distribution, and repeated the experiment many times (we chose 10,000) to arrive at our final answer."
   ]
  },
  {
   "cell_type": "markdown",
   "metadata": {
    "colab_type": "text",
    "id": "KAkKOpVUsEjC"
   },
   "source": [
    "### Quiz 1.3\n",
    "\n",
    "\n",
    "---\n",
    "\n",
    "\n",
    "\n",
    "1.   According to the rejection sampling algorithm, when is the parameter $p$ recorded?\n",
    "\n",
    "        a) we record all the parameters $p$ that were generated\n",
    "        \n",
    "        b) when generated data is the same as the observed data\n",
    "        \n",
    "        c) when generated data is not too far from the observed data\n",
    "        \n",
    "        \n",
    "2.   A computer runs rejection sampling for Version A as described above. It generates parameter value $p=0.187$ and then generates an outcome using the binomial distribution with parameters $n=8$ and $p=0.187$. The generated outcome is $4$. Recall that observed data is $5$. According to the rejection sampling algorithm, does computer keep(accept) the parameter value $p=0.187$ or ignore(reject) it?\n",
    "\n",
    "        a) accept    \n",
    "        \n",
    "        b) reject\n",
    "        \n",
    "        \n",
    "3.   On the second day of testing Version A and Version B it was observed that $10$ out of $30$ users signed up after looking at Version A while $158$ out of $200$ users signed up after looking at Version B. Adjust the code above to satisfy this new information and look at the histograms. Which version results in more sign-ups?\n",
    "\n",
    "        a) Version A\n",
    "        \n",
    "        b) Version B\n",
    "          \n",
    "\n"
   ]
  },
  {
   "cell_type": "markdown",
   "metadata": {
    "colab_type": "text",
    "id": "a4kyzxM1Uhud"
   },
   "source": [
    "## **Bayesian Inference**\n",
    "\n",
    "---\n",
    "<img src=\"media/chapter1/bayesiansteps_intro-01.jpg\" width=\"300\" align=\"right\">\n",
    "\n",
    "<a id='bayes'>*Bayesian inference*</a> is a means to mathematically  calculate what is represented graphically in the generative model. Using probability theory, one can assign probabilities to <a id='param'>*parameters*</a> to arrive at an answer. This is exactly what we did above with rejection sampling.\n",
    "\n",
    "<br>\n",
    "\n",
    "\n",
    "**Application of the Bayesian approach can be summarized in five general steps:**\n",
    "\n",
    "**(1)** Establish what data are relevant to answering your problem. Determine how these data relate to/influence one another, what are your predictors and what are you predicting (i.e. your model parameters)?\n",
    "\n",
    "**(2)** Describe your problem with a generative model. It is useful to start with a graphical approach and then fill in with a mathematical description (i.e. probability distributions for your data).\n",
    "\n",
    "**(3)** Choose an appropriate distribution for your data, parameters, and problem. In the <a href='#example1.2'>A/B testing example</a> above, we used the binomial distribution.\n",
    "\n",
    "**(4)** Run the Bayesian inference. \n",
    "\n",
    "**(5)** Check your model results with the previously observed data to see if the model is a valid representation of your problem. We did this as step 3 in the rejection sampling algorithm.\n",
    "\n",
    "\n",
    "\n",
    "\n",
    "This module will describe how these steps can be achieved through probabilistic programming in Python and the PyMC3 Python package.\n",
    "\n"
   ]
  },
  {
   "cell_type": "markdown",
   "metadata": {
    "colab_type": "text",
    "id": "ht4gOb2yGnLh"
   },
   "source": [
    "## PyMC3 as the probabilistic programming language\n",
    "\n",
    "\n",
    "---\n",
    "\n",
    "\n",
    "So far we have an idea about how to construct a generative model and how to use observed data to estimate the parameters, but how is this actually implemented? We will use PyMC3, which is a Python package for constructing generative models.\n",
    "\n",
    "[PyMC3's documentation website](https://docs.pymc.io/) provides more information about [installation](http://docs.pymc.io/notebooks/getting_started#Installation) of the package.\n",
    "\n",
    "Here is how you would install PyMC3 using [Anaconda](https://www.anaconda.com/):\n",
    "\n",
    "```\n",
    ">>> conda install pymc3\n",
    "```"
   ]
  },
  {
   "cell_type": "markdown",
   "metadata": {
    "colab_type": "text",
    "id": "7vw7g_B0dGxd"
   },
   "source": [
    "Let's solve the A/B testing problem using PyMC3. First, we need to import the PyMC3 package."
   ]
  },
  {
   "cell_type": "code",
   "execution_count": null,
   "metadata": {
    "colab": {},
    "colab_type": "code",
    "id": "KHdtjjyIdH7r"
   },
   "outputs": [],
   "source": [
    "import pymc3 as pm"
   ]
  },
  {
   "cell_type": "markdown",
   "metadata": {
    "colab_type": "text",
    "id": "wNnL373GKVOY"
   },
   "source": [
    "Next we need to gather the information we have about our model:\n",
    "\n",
    "*   data is generated by the binomial distribution (Version A: parameter `p_A`, number of people $8$; Version B: parameter `p_B`, number of people $10$)\n",
    "*   observed data (Version A: 5 out of 8 signed up; Version B: 2 out of 10 signed up)\n",
    "*   unknown parameters are `p_A` and `p_B` that at first are chosen randomly between $0$ and $1$\n",
    "\n",
    "Let's feed all the information into PyMC3 model.\n",
    "\n",
    "In PyMC3 all of the variables are usually handled inside the model within the context of Model object. Any variables that are created within the Model context are assigned to the model. We can test our variables outside of the model context, but to add more variables to the model, we need to work within the model context.\n",
    "\n",
    "Let's start with introducing unknown parameters `p_A` and `p_B`, that are generated randomly between $0$ and $1$.\n",
    "\n",
    "<b> Quick note about PyMC3 vs. NumPy </b>: PyMC3 is used to construct models for analysis and generate results. We use PyMC3 when generating data within a probablistic model, whereas NumPy is better suited for generating data outside of a model, as we did in previous examples. "
   ]
  },
  {
   "cell_type": "code",
   "execution_count": null,
   "metadata": {
    "colab": {},
    "colab_type": "code",
    "id": "puj-7fxnJN21"
   },
   "outputs": [],
   "source": [
    "with pm.Model() as AB_testing_model:\n",
    "  #this means that p_A and p_B are chosen randomly between 0 and 1\n",
    "  p_A = pm.Uniform('p_A', 0, 1)\n",
    "  p_B = pm.Uniform('p_B', 0, 1)"
   ]
  },
  {
   "cell_type": "markdown",
   "metadata": {
    "colab_type": "text",
    "id": "4jSnf0u9Oesa"
   },
   "source": [
    "Now we can add information about how the data is generated using the binomial distribution. Since the observed data is also generated by the same binomial distribution, we can add it to the model as well using argument `observed`."
   ]
  },
  {
   "cell_type": "code",
   "execution_count": null,
   "metadata": {
    "colab": {},
    "colab_type": "code",
    "id": "1Kl7v6Z3NhX9"
   },
   "outputs": [],
   "source": [
    "with AB_testing_model:\n",
    "  test_A = pm.Binomial('test_A', n = 8, p = p_A, observed = 5)\n",
    "  test_B = pm.Binomial('test_B', n = 10, p = p_B, observed = 2)"
   ]
  },
  {
   "cell_type": "markdown",
   "metadata": {
    "colab_type": "text",
    "id": "F5jbg_mVkjL0"
   },
   "source": [
    "After feeding the information to the model, we can run Bayesian Inference. PyMC3 supports various algorithms. The following code runs as Bayesian inference algorithm, which is explained later in Chapter 3.\n"
   ]
  },
  {
   "cell_type": "code",
   "execution_count": null,
   "metadata": {
    "colab": {
     "base_uri": "https://localhost:8080/",
     "height": 222
    },
    "colab_type": "code",
    "id": "6-Wu9pIVPAn_",
    "outputId": "3b23bed3-6e7b-4610-db7c-91e0f640d2d7"
   },
   "outputs": [],
   "source": [
    "with AB_testing_model:\n",
    "  step = pm.Metropolis()\n",
    "  trace = pm.sample(20000, step=step)\n",
    "  burned_trace = trace[1000:]"
   ]
  },
  {
   "cell_type": "markdown",
   "metadata": {
    "colab_type": "text",
    "id": "ag-F8RCiOre_"
   },
   "source": [
    "### Quiz 1.4\n",
    "\n",
    "\n",
    "---\n",
    "\n",
    "\n",
    "1.   Which of the following options are correct?\n",
    "             \n",
    "        a)\n",
    "```\n",
    "import pymc3 as pm\n",
    "with pm.Model() as AB_testing_model:\n",
    "  p_A=pm.Uniform('p_A',0,1)\n",
    "  p_B=pm.Uniform('p_B',0,1)\n",
    "  test_A=pm.Binomial('test_A',n=8,p=p_A, observed=5)\n",
    "  test_B=pm.Binomial('test_B',n=10,p=p_B, observed=2)\n",
    "  step = pm.Metropolis()\n",
    "  trace = pm.sample(20000, step=step)\n",
    "  burned_trace=trace[1000:]\n",
    "```\n",
    "        \n",
    "        b)\n",
    "\n",
    "```\n",
    "import pymc3 as pm\n",
    "with pm.Model() as AB_testing_model:\n",
    "  p_A=pm.Uniform('p_A',0,1)\n",
    "  p_B=pm.Uniform('p_B',0,1)\n",
    "test_A=pm.Binomial('test_A',n=8,p=p_A, observed=5)\n",
    "test_B=pm.Binomial('test_B',n=10,p=p_B, observed=2)\n",
    "step = pm.Metropolis()\n",
    "trace = pm.sample(20000, step=step)\n",
    "burned_trace=trace[1000:]\n",
    "```\n",
    "        c)  \n",
    "          \n",
    "```\n",
    "import pymc3 as pm\n",
    "with pm.Model() as AB_testing_model:\n",
    "  p_A=pm.Uniform('p_A',0,1)\n",
    "  p_B=pm.Uniform('p_B',0,1)\n",
    "  \n",
    "with AB_testing_model:\n",
    "  test_A=pm.Binomial('test_A',n=8,p=p_A, observed=5)\n",
    "  test_B=pm.Binomial('test_B',n=10,p=p_B, observed=2)\n",
    "  \n",
    "with model:\n",
    "  step = pm.Metropolis()\n",
    "  trace = pm.sample(20000, step=step)\n",
    "  burned_trace=trace[1000:]\n",
    "```\n",
    "        d)  \n",
    "          \n",
    "```\n",
    "import pymc3 as pm\n",
    "with pm.Model() as AB_testing_model:\n",
    "  p_A=pm.Uniform('p_A',0,1)\n",
    "  p_B=pm.Uniform('p_B',0,1)\n",
    "  \n",
    "with AB_testing_model:\n",
    "  test_A=pm.Binomial('test_A',n=8,p=p_A, observed=5)\n",
    "  test_B=pm.Binomial('test_B',n=10,p=p_B, observed=2)\n",
    "  step = pm.Metropolis()\n",
    "  trace = pm.sample(20000, step=step)\n",
    "  burned_trace=trace[1000:]\n",
    "```\n"
   ]
  },
  {
   "cell_type": "markdown",
   "metadata": {
    "colab_type": "text",
    "id": "yIk6DEllmMyn"
   },
   "source": [
    "We collect samples of parameters `p_A`, `p_B` and visualize them using histograms. "
   ]
  },
  {
   "cell_type": "code",
   "execution_count": null,
   "metadata": {
    "colab": {},
    "colab_type": "code",
    "id": "gxq_KTKjPSLf"
   },
   "outputs": [],
   "source": [
    "p_A_samples = burned_trace[\"p_A\"]\n",
    "p_B_samples = burned_trace[\"p_B\"]"
   ]
  },
  {
   "cell_type": "code",
   "execution_count": null,
   "metadata": {
    "colab": {
     "base_uri": "https://localhost:8080/",
     "height": 626
    },
    "colab_type": "code",
    "id": "Z85DQoqsPr8A",
    "outputId": "bc38cc0d-e62a-4857-fc44-a2135a6cc731"
   },
   "outputs": [],
   "source": [
    "import matplotlib.pyplot as plt\n",
    "from IPython.core.pylabtools import figsize\n",
    "%matplotlib inline\n",
    "figsize(12.5, 10)\n",
    "\n",
    "#histogram of posteriors\n",
    "\n",
    "ax = plt.subplot(211)\n",
    "\n",
    "plt.xlim(0, 1)\n",
    "plt.hist(p_A_samples, histtype='stepfilled', bins=25, alpha=0.85,\n",
    "         label=\"posterior of $p_A$\", color=\"#A60628\", normed=False)\n",
    "plt.legend(loc=\"upper right\")\n",
    "plt.title(\"Posterior distributions of $p_A$, $p_B$, and bins\")\n",
    "\n",
    "ax = plt.subplot(212)\n",
    "\n",
    "plt.xlim(0, 1)\n",
    "plt.hist(p_B_samples, histtype='stepfilled', bins=25, alpha=0.85,\n",
    "         label=\"posterior of $p_B$\", color=\"#467821\", normed=False)\n",
    "plt.legend(loc=\"upper right\")\n"
   ]
  },
  {
   "cell_type": "markdown",
   "metadata": {
    "colab_type": "text",
    "id": "UBz34I8yTiNl"
   },
   "source": [
    "Histograms show how parameters `p_A` and `p_B` behave. Upon observation, Version A gives larger values of `p_A` than Version B of `p_B`. Now we are able to confidently determine that Version A is more likely to result in a greater number of people signing up for emails compared to Version B."
   ]
  },
  {
   "cell_type": "markdown",
   "metadata": {
    "colab_type": "text",
    "id": "2kvRV_2TTqmc"
   },
   "source": [
    "Inference can be modeled with statistics, and with modern programming languages and computing power, allows for a wider audience to address more complex problems using these approaches. Simple algorithms, such as rejection sampling, can work for some problems, such as those that use the binomial distribution; however oftentimes different distributions and more complicated algorithms must be used. In the following chapters, we will introduce how to solve more complicated problems with probabilistic programming."
   ]
  },
  {
   "cell_type": "markdown",
   "metadata": {
    "colab_type": "text",
    "id": "I-CBp3qXuJBY"
   },
   "source": [
    "## <u>Definitions</u>\n",
    "\n",
    "<a href='#prob prog'>**Probabilistic programming**</a>: a technique that combines probability theory, statistical inference, and computer programming to model a system and solve a problem. \n",
    "\n",
    "<a href='#prob'>**Probability**</a>: the odds of an event occuring, which is expressed as the number of sucesses over the total number of objects or measurements.\n",
    "\n",
    "<a href='#gen model'>**Generative model**</a>: a model that describes the dependencies between data with statistics and probability. It is generative in that the model generates new data from the probability associated with previously known data.\n",
    "\n",
    "<a href='#state'>**State**</a>: Known events or outcomes. In a graphical generative model, these are illustrated as boxes.\n",
    "\n",
    "<a href='#dependency'>**Dependency**</a>: demonstrates how independent states are related, or dependent, on one another. In a graphical generative model, these are illustrated as one-sided arrows.\n",
    "\n",
    "<a href='#bin dist'>**Binomial distribution**</a>: describes random experiment in which $n$ objects can have positive or negative response, and the probability of positive response for each object is $p$. Depends on two parameters: $n$ and $p$.\n",
    "\n",
    "<a href='#hist'>**Histogram**</a>: a type of graph that shows the number of counts (or frequency of occurence) of numerical data in bins.\n",
    "\n",
    "<a href='#rej'>**Rejection sampling**</a>: an algorithm for Bayesian Inference, that compares generated data to observed data and, if they coincide, remembers information about priors that led to such data.\n",
    "\n",
    "<a href='#bayes'>**Bayesian inference**</a>: a means to mathematically calculate what is represented graphically in the generative model. \n",
    "\n",
    "<a href='#param'>**Parameter**</a>: describes a probability distribution numerically."
   ]
  },
  {
   "cell_type": "code",
   "execution_count": null,
   "metadata": {},
   "outputs": [],
   "source": []
  }
 ],
 "metadata": {
  "colab": {
   "collapsed_sections": [],
   "name": "PP_1_Introduction.ipynb",
   "provenance": [],
   "version": "0.3.2"
  },
  "kernelspec": {
   "display_name": "Python 3",
   "language": "python",
   "name": "python3"
  },
  "language_info": {
   "codemirror_mode": {
    "name": "ipython",
    "version": 3
   },
   "file_extension": ".py",
   "mimetype": "text/x-python",
   "name": "python",
   "nbconvert_exporter": "python",
   "pygments_lexer": "ipython3",
   "version": "3.6.3"
  }
 },
 "nbformat": 4,
 "nbformat_minor": 1
}
