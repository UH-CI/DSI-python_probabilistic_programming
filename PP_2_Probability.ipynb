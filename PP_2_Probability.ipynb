{
 "cells": [
  {
   "cell_type": "markdown",
   "metadata": {
    "colab_type": "text",
    "id": "4O5BE8Tsd5lt"
   },
   "source": [
    "# Chapter 2. **Probability**\n",
    "\n",
    "\n",
    "In the first chapter, we introduced some basic problems and ideas of probabilistic programming and probability. Now, let's review some of those concepts in greater detail. Recall the Example 1.2 of A/B Testing from the introduction, in which we used the binomial distribution in our probabilistic model to generate data. This chapter will explain why the binomial distribution was the best choice for that example.\n",
    "\n",
    "A basic understanding of *probability* is critical for mastering probabilistic programming because we want to model our data while understanding the controlling factors. To answer our experimental questions, we need to represent our assumptions about our variables as *probability distributions* to generate new samples with a generative model.\n"
   ]
  },
  {
   "cell_type": "markdown",
   "metadata": {
    "colab_type": "text",
    "id": "UBXNx7vf1Hs3"
   },
   "source": [
    "## Probability Background\n",
    "\n",
    "\n",
    "---\n",
    "\n",
    "\n",
    "---\n",
    "***Example 2.1.*** **Patient with a cold**\n",
    "\n",
    "Recall the generative model for a patient with a cold:\n",
    "\n",
    "![](media/chapter2/gen_model_cold.jpg)\n",
    "\n",
    "In this example, the patient can have symptoms of fever, coughing or sneezing. \n",
    "\n",
    "The set of all possible outcomes is called a <a id='sample space'>*sample space*</a> $S$. \n",
    "\n",
    "Thus, $S=\\{fever, coughing, sneezing\\}$.  \n",
    "\n",
    "Sometimes, we also want to consider an event, such as the patient coughing. \n",
    "\n",
    "Formally, an <a id='event'>*event*</a> is any subset of the sample space $S$. \n",
    "\n",
    "For example, the above event can be represented with a subset $A=\\{coughing\\}$, which includes patients that are only coughing. If we wanted to look at patients that only have a fever, we would describe them with another event, which can be expressed as a subset $B=\\{fever\\}$. Alternatively, if we want to consider patients that either are coughing or have a fever, the subset that describes such a subgroup would be $C=\\{coughing, fever\\}$.\n",
    "\n",
    "Let's consider another example from the previous chapter to reinforce our understanding of the definitions of sample space and event.\n",
    "\n",
    "***Example 2.2 *** **The testing of Version A of the email sign-up design on 8 people**\n",
    "\n",
    "The generative model for the testing of Version A of the email sign-up page on 8 people is described in the figure below.\n",
    "\n",
    "![alt text](https://drive.google.com/uc?id=1HRkUWSl-lVuyRewwyPa0tCQnuB89ZiPX)\n",
    "\n",
    "What outcomes can be expected from the experiment? Before answering this question, it is helpful to observe that the outcomes can be interpreted in two different ways:\n",
    "\n",
    "\n",
    "\n",
    "1.   We could just be interested in the **number of people** who signed up. For example, 5 out 8 users signed up regardless of the order that they signed up.\n",
    "\n",
    "2.   We could want to see the response of each person **(Yes/No)**. This outcome assumes that our people are numbered from 1 to 8, and we are interested in whether each specific person signed up or not.\n",
    "\n",
    "\n",
    "Suppose we are interested in the second interpretation and denote a person that signs up by $Y$ and a person that doesn't by $N$. Since we want to see each person's response, we enumerate them before the experiment. Then the outcome in which only the first person signed up can be written as $YNNNNNNN$; or the outcome in which only the second person signed up is $NYNNNNNN$. \n",
    "\n",
    "The sample space $S$ consists of possible combinations of $Y$ and $N$ for 8 users. We could write all possible outcomes down, but since there are so many of them, we will not do that here.\n",
    "\n",
    "Suppose we are interested in event $A$ that represents '$7$ users signed up'. Then this event is a subset of the sample space $S$ that consists of all outcomes in which $7$ users signed up.\n",
    "So $A=\\{\\\\\n",
    "NYYYYYYY,\\\\\n",
    "YNYYYYYY,\\\\\n",
    "YYNYYYYY,\\\\\n",
    "YYYNYYYY,\\\\\n",
    "YYYYNYYY,\\\\\n",
    "YYYYYNYY,\\\\\n",
    "YYYYYYNY,\\\\\n",
    "YYYYYYYN\\\\\n",
    "\\}.$\n",
    "\n",
    "If we want $B$ to be an event that exactly describes the above picture's configuration, then $B=\\{YNNYYNYY\\}$."
   ]
  },
  {
   "cell_type": "markdown",
   "metadata": {
    "colab_type": "text",
    "id": "IsMFhOIOwTvz"
   },
   "source": [
    "## Quiz 2.1\n",
    "\n",
    "\n",
    "---\n",
    "\n",
    "1.   In Example 2.1, which of the following is the subset $D$ that represents the event where a patient has a fever or is sneezing?\n",
    "\n",
    "        a) $D = \\{fever\\}$, $D = \\{sneezing\\}$\n",
    "        \n",
    "        b) $D = \\{fever, sneezing\\}$  \n",
    "        \n",
    "        c) $D = \\{fever \\& sneezing\\}$   \n",
    "        \n",
    "        d) $D = \\{fever, coughing, sneezing\\}$\n",
    "\n",
    "\n",
    "2.   Using the problem posed in Example 2.2, which of the following is an event?\n",
    "        \n",
    "        a) $A = \\{NYYNNN\\}$   \n",
    "        \n",
    "        b) $A = \\{N\\}$  \n",
    "        \n",
    "        c) $A = \\{YNYYNNYN\\}$   \n",
    "        \n",
    "        d) $A = \\{YN\\}$\n",
    "\n",
    "       \n",
    "\n",
    "\n"
   ]
  },
  {
   "cell_type": "markdown",
   "metadata": {
    "colab_type": "text",
    "id": "5_DRpYDFeR1A"
   },
   "source": [
    "## Probability\n",
    "\n",
    "Let's say you run an experiment a very large number of times. The probability of event $A$ occurring is $p$, where $p$ represents the proportion of times $A$ will occur, and the probability that $A$ will not occur is represented by $(1-p)$. Intuitively, the probability of an event ocurring is a number between $0$ and $1$. If the probability of an event occuring is closer to $1$, then that event is more likely to occur than not occur. Likewise, if the probability of an event occurring is closer to $0$, then that event is more likely to not occur than to occur.  We have already encountered probability in previous examples (the parameter $p$ that describes the probability of a person signing up in the A/B testing example is a probability). Now we are going to properly define it.\n",
    "\n",
    "<a id='probability'>*Probability*</a> is a function denoted by $P()$ that assigns a value between $0$ and $1$ to each event $A$ of the sample space $S$ and satisfies certain requirements called axioms:\n",
    "\n",
    "1.   Probability of any event is non-negative. ($P(A)\\geq 0$ for any event $A$)\n",
    "2.   Probability that the outcome is from a sample space equals 1. ($P(S)=1$, where $S$ is a sample space).\n",
    "3.   If two events $A$ and $B$ cannot happen simultaneously (are mutually exclusive), then $P(A+B)=P(A)+P(B)$, where $A+B$ means at least one of the events $A$ or $B$ happens.\n",
    "\n",
    "Let's define a probability function that fits the depicted model of a patient with cold from Example 2.1.\n",
    "\n",
    "<html>\n",
    "<table style=\"width:50%\">\n",
    "  <tr>\n",
    "    <th><b><center>Event</center></b></th>\n",
    "    <th><b><center>Probability</center></b></th> \n",
    "  </tr>\n",
    "  <tr>\n",
    "    <td><center>$\\{fever\\}$</center></td>\n",
    "    <td><center>$1/10$</center></td>\n",
    "  </tr>\n",
    "  <tr>\n",
    "    <td><center>$\\{coughing\\}$</center></td>\n",
    "    <td><center>$4/10$</center></td>\n",
    "  </tr>\n",
    "    <tr>\n",
    "    <td><center>$\\{sneezing\\}$</center></td>\n",
    "    <td><center>$5/10$</center></td>\n",
    "  </tr>\n",
    "    <tr>\n",
    "    <td><center>$\\{fever, coughing\\}$</center></td>\n",
    "    <td><center>$1/10+4/10 = 5/10$</center></td>\n",
    "  </tr>\n",
    "    <tr>\n",
    "    <td><center>$\\{fever,sneezing\\}$</center></td>\n",
    "    <td><center>$1/10+5/10=6/10$</center></td>\n",
    "  </tr>\n",
    "    <tr>\n",
    "    <td><center>$\\{coughing,sneezing\\}$</center></td>\n",
    "    <td><center>$4/10+5/10=9/10$</center></td>\n",
    "  </tr>\n",
    "    <tr>\n",
    "    <td><center>$S=\\{fever,coughing,sneezing\\}$</center></td>\n",
    "    <td><center>$1/10+4/10+5/10=1$</center></td>\n",
    "  </tr>\n",
    "</table>\n",
    "  </html>\n",
    "    \n",
    "You can check yourself that the probability function above satisfies all of the axioms.\n",
    "\n",
    "***Example 2.3.*** Consider just one person from Example 2.2. \n",
    "\n",
    "![](media/chapter2/model_user.jpg)\n",
    "\n",
    "There are only two possible outcomes, so the sample space $S=\\{Y, N\\}$, where as previously mentioned, $Y$ represents the case where the user signs up and $N$ represents the case where the user does not sign up for email updates. Let $A$ be an event \"the person signs up\", that is $A=\\{Y\\}$. We know from the above model, that chance of signing up is $5/8$, so we set $P(A)=5/8=0.625$. Let $B$ be an event \"the person doesn't sign up\", or $B=\\{N\\}$, which also has a chance of $5/10$ and thus we set $P(B)=3/8=0.375$. Another possible event is the sample space itself and since events $A$ and $B$ cannot happen simultaneously, $P(S)=P(A+B)=5/8+3/8=1$ that satisfies the axiom 2.\n",
    "\n",
    "\n",
    "---\n",
    "\n",
    "\n",
    "In summary, for any random experiment one has to assign probability $P()$ that expresses one's belief in how the experiment is conducted while satisfying the three axioms. The probability of an event is a sum of probabilities of outcomes belonging to this event.\n",
    "\n",
    "We will not focus on counting probabilities in this module, instead we will let the computer do that for us.\n"
   ]
  },
  {
   "cell_type": "markdown",
   "metadata": {
    "colab_type": "text",
    "id": "Wkgy1HqNC8kR"
   },
   "source": [
    "In the context of Probabilistic Programming, we are interested not in a probability of a single event, but rather the 'big picture': what are the probabilities for each of the events, which one is more likely to happen, etc. Probability distributions can help answer these questions. But first, let's look at the notion of random variable."
   ]
  },
  {
   "cell_type": "markdown",
   "metadata": {
    "colab_type": "text",
    "id": "JfMkGlY3ziYE"
   },
   "source": [
    "## Quiz 2.2\n",
    "\n",
    "\n",
    "---\n",
    "\n",
    "1.   Which of the following could represent the probability of Event $X$ occurring?\n",
    "\n",
    "        a) $P(X) = 0.5$\n",
    "        \n",
    "        b) $P = 0.5$\n",
    "        \n",
    "        c) $0.5$\n",
    "        \n",
    "        d) $P(X) = 1.2$\n",
    "        \n",
    "\n",
    "\n",
    "2.   Given that $P(A) = 0.10$, $P(B) = 0.75$, $P(C) = 0.80$ and $P(D) = 0.05$, which of the following events is most likely to occur?\n",
    "        \n",
    "        a) Event $A$\n",
    "        \n",
    "        b) Event $B$\n",
    "        \n",
    "        c) Event $C$\n",
    "        \n",
    "        d) Event $D$\n",
    "\n",
    "       "
   ]
  },
  {
   "cell_type": "markdown",
   "metadata": {
    "colab_type": "text",
    "id": "KW_UXTGCsGp-"
   },
   "source": [
    "## Random Variables\n",
    "\n",
    "We have now defined the sample space $S$ and the event, $A$. Previously, we have used words and abbreviations to represent the outcomes, but we can also denote the outcomes of an experiment with numbers. Working with numbers allows one to use mathematics to extend the theory. \n",
    "\n",
    "Recall in the illness Example 2.1, our sample space $S$ consisted of $S=\\{fever,coughing,sneezing\\}$. We can rewrite our sample space in terms of numbers, where fever corresponds to $1$, coughing to $2$, and sneezing to $3$. This results in a change in how the sample space is represented ($S=\\{1,2,3\\}$), but the random experiment itself doesn't change. This transition from a textual description of outcomes to numerical encoding is captured by the <a id='random variable'>*random variable*</a> ($X$). The same way one can generate an outcome by performing a random experiment, one can also generate the quantified outcome (in other words, generate an outcome and transition to a value specified by a random variable). From now on, we are going to use the quantified outcomes (i.e. random variables) and instead of working with a sample space (that remains unchanged, $S=\\{fever, coughing, sneezing\\}$), we are going to use the <a id='range'>*range of a random variable*</a> ($R(X)=\\{1,2,3\\}$), which is defined as the set of all values a random variable can take on. \n",
    "\n",
    "Let's go back to the Example 2.2 (A/B testing). In this case the sample space $S$ consists of all sets of 8 (octuples) of $Y$ or $N$. Suppose now we want to keep track of only the number of sign-ups in a random experiment. For that, we assign random variable $Z$ to be equal to the number of successes in each outcome. For example, $Z(YNNNNNNN)=1$ and $Z(NNYYNNNN)=2$, etc.\n",
    "The set of all possible quantified outcomes is $R(Z)=\\{0,1,2,3,4,5,6,7,8\\}$.\n",
    "\n",
    "One can define probabilities for random variables the same way as we defined probabilities for individual events. This is exactly what the probability distribution captures. Specifically, the <a id='distribution'>*probability distribution*</a> is an assignment of a probability to each value in the range of a random variable, where the probabilities sum to one.\n",
    "\n",
    "We can easily sample from the binomial distribution that we introduced for A/B testing in the Introduction. The following python code shows how to generate $1,000$ random samples from the binomial distribution, where the sample space is $S=\\{0,1,2,3,4,5,6,7,8\\}$, and the probability of success for a single trial is $p=0.625$:\n",
    "\n",
    "\n",
    "\n",
    "\n"
   ]
  },
  {
   "cell_type": "code",
   "execution_count": 6,
   "metadata": {
    "colab": {},
    "colab_type": "code",
    "id": "1d9cE9oTNq4O"
   },
   "outputs": [],
   "source": [
    "# generate random variables\n",
    "from numpy.random import binomial\n",
    "\n",
    "n = 8\n",
    "p = 0.625\n",
    "size = 1000\n",
    "\n",
    "# generate 1000 random samples with n = 8 and p = 0.625\n",
    "r = binomial(n, p, size = size)\n",
    "\n",
    "#print(r)"
   ]
  },
  {
   "cell_type": "markdown",
   "metadata": {
    "colab_type": "text",
    "id": "DFW1g3Af6TYJ"
   },
   "source": [
    "## Quiz 2.3\n",
    "\n",
    "\n",
    "---\n",
    "\n",
    "\n",
    "\n",
    "1.   Let sample space $S$ consist of all sets of 8 (octuples) of Y or N, where Y represents sign-up and N represents not signing up (same as in A/B testing Example 2.2). Let random variable $Z$ be equal to the number of successes in each outcome.\n",
    "\n",
    "\n",
    "   *   $Z(YNYYYNNNN)=$\n",
    "   \n",
    "          a) $2$\n",
    "          \n",
    "          b) $4$\n",
    "          \n",
    "          c) $5$\n",
    "          \n",
    "          d) $0$\n",
    "          \n",
    "          \n",
    "   *   $Z(NNNNNNNN)=$\n",
    "   \n",
    "          a) $2$\n",
    "          \n",
    "          b) $4$\n",
    "          \n",
    "          c) $5$\n",
    "          \n",
    "          d) $0$\n",
    "          \n",
    "          \n",
    "   *   $Z(NNYYNNNN)=$\n",
    "   \n",
    "          a) $2$\n",
    "          \n",
    "          b) $4$\n",
    "          \n",
    "          c) $5$\n",
    "          \n",
    "          d) $0$\n",
    "          \n",
    "2.   In the setup of question 1, which answer has a numerical encoding of 3? \n",
    "        \n",
    "       (i.e. $Z(?)=3$)\n",
    "            \n",
    "        a) $YYNNNNNY$\n",
    "        \n",
    "        b) $YYYYNNNN$\n",
    "        \n",
    "        c) $NYNYNYNN$\n",
    "        \n",
    "        d) $NNNYYYNN$\n",
    "\n"
   ]
  },
  {
   "cell_type": "markdown",
   "metadata": {
    "colab_type": "text",
    "id": "Cjg_NiQDNqEo"
   },
   "source": [
    "## Binomial Distribution\n",
    "\n",
    "In the introduction, we briefly discussed the binomial distribution in the context of A/B testing. Recall, we had two versions of a visual, Versions A and B as shown below:\n",
    "\n",
    "![](media/chapter2/versions.jpg)\n",
    "\n",
    "In this problem, we were able to take advantage of the binomial distribution as a shortcut to determine which version of the graphic resulted in a greater number of people signing up for emails. In this example, the number of objects $n$ represented the number of people in a testing group ($n = 8$ and $n = 10$ for Versions A and B, respectively) and the estimate of the parameter of the true underlying distribution, $p$, was the ratio of the number of people that signed up to the number of people in a testing group. In other words, the observation of our random variable $X$ is equal to the number of successes (e.g. for Version $A$, $X = 5$ and for Version $B$, $X = 2$), and the probability of success $p$ is the number of successes divided by the number of people (e.g. for Version A, $p = 5/8 = 0.625$ and for Version $B$, $p = 2/10 = 0.2$).\n",
    "\n",
    "Let's now redefine the binomial distribution given what we have just learned about probability. The <a id='binomial'>*binomial distribution*</a> can be used to describe a dichotomous variable (such as a yes/no question, or in this case sign-ups) and is described by two parameters:\n",
    "\n",
    "$n$ = number of trials.\n",
    "\n",
    "$p$ = probability of success for each trial, represented as a number between $0$ and $1$.\n",
    "\n",
    "If we want to generate a random number for the given example, we can use the binomial distribution with $n = 8$ and $p = 0.625$ as in the following code:"
   ]
  },
  {
   "cell_type": "code",
   "execution_count": 10,
   "metadata": {
    "colab": {
     "base_uri": "https://localhost:8080/",
     "height": 395
    },
    "colab_type": "code",
    "id": "B-SjrBdcHbAh",
    "outputId": "2bcd2e3b-2622-4b08-f422-191901ae5c2d"
   },
   "outputs": [
    {
     "name": "stdout",
     "output_type": "stream",
     "text": [
      "Out of 8 people [6] signed up\n"
     ]
    }
   ],
   "source": [
    "from numpy.random import binomial\n",
    "\n",
    "# parameters n and p\n",
    "n = 8\n",
    "p = 0.625\n",
    "\n",
    "# randomly generated value for the given example\n",
    "rand = np.random.binomial(n, p, size = 1)\n",
    "\n",
    "print('Out of 8 people', rand[0], 'signed up')"
   ]
  },
  {
   "cell_type": "markdown",
   "metadata": {
    "colab_type": "text",
    "id": "xKMdKLow7JvK"
   },
   "source": [
    "The graph of the binomial distribution with $n = 8$ and $p = 0.625$ is the following:\n",
    "\n",
    "![](media/chapter2/binomial.png)\n",
    "\n",
    "To assign the binomial distribution to a random variable `X` with PyMC3 package, use `X = pymc3.Binomial('X', n, p)`.\n",
    "\n",
    "The binomial probability mass function looks graphically different when the parameters $n$ and $p$ are changed."
   ]
  },
  {
   "cell_type": "code",
   "execution_count": 31,
   "metadata": {},
   "outputs": [
    {
     "data": {
      "application/vnd.jupyter.widget-view+json": {
       "model_id": "f247dc7149d949a8a5cd520ab15035de",
       "version_major": 2,
       "version_minor": 0
      },
      "text/plain": [
       "interactive(children=(IntSlider(value=8, description='n', min=1), FloatSlider(value=0.625, description='p', ma…"
      ]
     },
     "metadata": {},
     "output_type": "display_data"
    }
   ],
   "source": [
    "# @hidden_cell\n",
    "\n",
    "%matplotlib inline\n",
    "import scipy as sp\n",
    "from scipy.stats import binom\n",
    "from ipywidgets import interactive\n",
    "import matplotlib.pyplot as plt\n",
    "import numpy as np\n",
    "\n",
    "def f(n = 8, p = 0.625):\n",
    "    fig, ax = plt.subplots(1, 1)\n",
    "\n",
    "    x = np.arange(0, n + 1)\n",
    "    \n",
    "    ax.plot(x, binom.pmf(x, n, p), 'bo')\n",
    "    plt.title('Binomial')\n",
    "    ax.vlines(x, 0, sp.stats.binom.pmf(x, n, p), colors='k')\n",
    "    plt.xlim(-0.9, n+1)\n",
    "    #plt.ylim(0,1)\n",
    "    plt.show()\n",
    "\n",
    "interactive_plot = interactive(f, n=(1, 100), p=(0, 1, 0.01))\n",
    "output = interactive_plot.children[-1]\n",
    "output.layout.height = '350px'\n",
    "interactive_plot\n"
   ]
  },
  {
   "cell_type": "markdown",
   "metadata": {
    "colab_type": "text",
    "id": "I7U1H-pfWeS8"
   },
   "source": [
    "## Bernoulli Distribution\n",
    "\n",
    "The <a id='bernoulli'>Bernoulli distribution</a> is a specific kind of binomial distribution. Like the binomial distribution, it is a discrete distribution that answers a dichotomous question. The Bernoulli distribution however, only has one parameter $p$ because it describes the case where $n = 1$ (i.e. only one trial is conducted instead of $n$ trials).\n",
    "\n",
    "In other words, the Bernoulli distribution is just the binomial distribution when $n = 1$. Set $n$ to 1 in the slider above and observe how alterations of parameter $p$ affect the graph."
   ]
  },
  {
   "cell_type": "markdown",
   "metadata": {
    "colab_type": "text",
    "id": "XfrOfAGs2Ja7"
   },
   "source": [
    "## Quiz 2.4\n",
    "\n",
    "\n",
    "---\n",
    "\n",
    "1.   Are there any parameters $p$ for the Bernoulli distribution, so the probability of one of the outcomes is equal to 1?\n",
    "\n",
    "        a) Yes\n",
    "        \n",
    "        b) No\n",
    "\n",
    "\n",
    "2.   Determine possible parameters $p$ that satisfy the following: outcome $12$ is more likely to happen than any other outcome in the Binomial distribution with parameters $p$ and $n=16$. \n",
    "        \n",
    "        a) $p=0.58$\n",
    "        \n",
    "        b) $p=0.73$\n",
    "        \n",
    "        c) $p=0.75$\n",
    "        \n",
    "        d) $p=0.77$\n"
   ]
  },
  {
   "cell_type": "markdown",
   "metadata": {
    "colab_type": "text",
    "id": "TCcN28pOv08m"
   },
   "source": [
    "## Distributions\n",
    "---\n",
    "Recall that a probability distribution describes the probability that an event will occur for all values in the range of a random variable. Probability distributions are described by a random variable and a probability function. Probability distributions can be either discrete or continuous (see below) and are described by <a id='distpar'>distribution parameters</a>.\n",
    "\n",
    "\n",
    "A random variable and distribution are called <a id='discrete'>*discrete*</a> if the range of a random variable is countable (i.e. one can count all elements of the set). The alternative case, when one cannot count all the elements in the range of a random variable (i.e. they exist on a continuum), a random variable and a distribution are called <a id='continuous'>*continuous*</a>.\n",
    "\n",
    "\n",
    "---\n",
    "In Example 2.2, $R(Z)=\\{0,1,2,3,4,5,6,7,8\\}$, one can count all elements of the set, so the distribution that describes the example, (the binomial distribution) is considered a discrete distribution.\n",
    "\n",
    "***Example 2.4.*** Consider a random experiment that describes the number of text messages an individual receives during the day. Suppose we know that this person receives about $13$ messages daily on average. How many text messages can one receive? It is possible to receive no messages at all, but one could receive 10 or 100 messages during the day. Assuming there are no memory restrictions in the phone, the possible number of text messages during the day can be any non-negative integer number: $R(Z)=\\{0,1,2,3,...\\}$. There are infinitely many options, but still one can count all of the messages they received on any single day. Therefore, this experiment is described by a discrete distribution and a random variable $Z$.\n",
    "\n",
    "***Example 2.5.*** Suppose you ordered a pizza and are waiting for the pizza delivery to arrive. According to the person you spoke with on the phone, you can expect your pizza to arrive anywhere from 2 to 15 minutes from now. When will your pizza arrive?\n",
    "\n",
    "What is the range of a random variable $R(X)$ in this example? The pizza can arrive any time between 2 minutes and 15 minutes. Therefore, $R(X)=\\{2\\leq x\\leq 15\\}=[2,15]$. One cannot count all the elements of such set, thus distribution that describes this experiment is continuous.\n",
    "\n",
    "\n"
   ]
  },
  {
   "cell_type": "markdown",
   "metadata": {
    "colab_type": "text",
    "id": "F9XSJyPHEN7t"
   },
   "source": [
    "## Quiz 2.5\n",
    "\n",
    "\n",
    "---\n",
    "\n",
    "\n",
    "\n",
    "1.   Choose all of the discrete random variables from the following:\n",
    "      \n",
    "        a) random variable $X$, given $R(X)=\\{2,4,8,10\\}$\n",
    "        \n",
    "        b) random variable $Y$, given $R(Y)=\\{0\\leq x\\leq 10\\}=[0,10]$ (all real numbers between $0$ and $10$)\n",
    "        \n",
    "        c) random variable $Z$, given $R(Z)=\\{1,2,3,...\\}$ (all positive integers)\n",
    "        \n",
    "        \n",
    "          \n",
    "2.   Which of the following is a range of a random variable X for an experiment that describes the number of full glasses of water one can drink during the day?\n",
    "\n",
    "        a) $R(X)=\\{1,2,3,4\\}$\n",
    "        \n",
    "        b) $R(X)=\\{0,1,2,3,...\\}$\n",
    "        \n",
    "        c) $R(X)=\\{1,2,3,...\\}$\n",
    "\n"
   ]
  },
  {
   "cell_type": "markdown",
   "metadata": {
    "colab_type": "text",
    "id": "4vcivhUVEGtH"
   },
   "source": [
    "### Discrete distributions\n",
    "\n",
    "---\n",
    "\n",
    "\n",
    "\n",
    "For discrete distributions, the probability function that describes the distribution is called a <a id='pmf'>*probability mass function*</a> (PMF) and for each value $k$ of random variable $X$ it describes probability $P({X=k})$ of an event $\\{X=k\\}$ in a way that satisfies above axioms. Distributions can be represented as a graph where the $x$-axis corresponds to the values of random variable, and the $y$-axis corresponds to a probability mass function at each value.\n",
    "\n",
    "As an example, if we go back to the graph of binomial distribution and look at the point whose $x$-coordinate is 6 (i.e. this point represents an event $\\{X=6\\}$), one can find probability $P(X=6)$ that is the $y$-coordinate of the considered point.\n",
    "\n",
    "\n",
    "![](media/chapter2/binomial_pmf.jpg)\n",
    "\n",
    "\n",
    "\n",
    "Let's consider a few of the most common discrete distributions.\n",
    "\n",
    "### Discrete Uniform Distribution\n",
    "\n",
    "---\n",
    "\n",
    "\n",
    "***Example 2.6.*** The University of Hawaiʻi's Bookstore is giving away a free laptop. $50$ people entered to win the laptop, and each person can enter their name only once, and the person who wins the laptop will be chosen at random. Therefore, each person has an equal chance of winning . In this random experiment, the sample space consists of all the people that entered the contest to win the laptop. To consider this problem in terms of a random variable, we can enumerate participants, such that the first person is given a label of $1$, the second a label of $2$, etc. The range of a random variable $X$ is then $R(X)=\\{1,2,3,...,49,50\\}$ and the winner of the laptop is chosen at random from a number between $1$ and $50$, where each individual has an equal chance of winning. The distribution that describes such an experiment is called a *discrete uniform distribution*.\n",
    "\n",
    "The <a id='dud'>*discrete uniform distribution*</a> describes a distribution of finite number of equally spaced and equally likely outcomes. For instance, in the example above, we have $50$ individuals (a finite number of outcomes) who entered the giveaway. The outcomes are equally spaced because you cannot have half of a person, and each person has an equal chance of winning, therefore satisfying the requirements for a discrete uniform distribution.\n",
    "\n",
    "\n",
    "The distribution is described by two parameters:\n",
    "\n",
    "*   $a =$ minimum value\n",
    "*   $b =$ maximum value\n",
    "\n",
    "The discrete uniform variable takes on one of the following values: $a,a+1,...,b-1,b$.\n",
    "\n",
    "Returning to Example 2.6, we can see that the experiment is described by the discrete uniform distribution where the minimum value parameter is $a=1$ and the maximum value parameter is $b=50$. The following code in Python shows how to generate a winner using the distribution.\n",
    "\n",
    "\n"
   ]
  },
  {
   "cell_type": "code",
   "execution_count": 12,
   "metadata": {
    "colab": {
     "base_uri": "https://localhost:8080/",
     "height": 379
    },
    "colab_type": "code",
    "id": "f7bT-MZLCS8H",
    "outputId": "f139d3e1-cb2d-42c6-b510-7769cd2642d8"
   },
   "outputs": [
    {
     "name": "stdout",
     "output_type": "stream",
     "text": [
      "We can now pick the winner, Person # [25] wins the laptop!\n"
     ]
    }
   ],
   "source": [
    "from numpy.random import randint\n",
    "\n",
    "# parameters a and b\n",
    "a = 1\n",
    "b = 50\n",
    "\n",
    "# randomly generated value for the given example\n",
    "rand = randint(a, b, size = 1)\n",
    "\n",
    "print('We can now pick the winner, Person #', rand[0], 'wins the laptop!')"
   ]
  },
  {
   "cell_type": "markdown",
   "metadata": {
    "colab_type": "text",
    "id": "TeadKHClOQtk"
   },
   "source": [
    "The graph of the discrete uniform distribution with  $a=1$  and  $b=50$  is the following:\n",
    "\n",
    "![](media/chapter2/discreteuniform.png)\n",
    "\n",
    "To assign the discrete uniform distribution to a random variable `X` with PyMC3 package, use `X = pymc3.DiscreteUniform('X', a, b)`.\n",
    "\n",
    "Notice how the discrete uniform distribution changes as its parameters are altered.\n",
    "\n",
    "\n",
    "\n"
   ]
  },
  {
   "cell_type": "code",
   "execution_count": 33,
   "metadata": {
    "colab": {},
    "colab_type": "code",
    "id": "K-ndzRJVORSq"
   },
   "outputs": [
    {
     "data": {
      "application/vnd.jupyter.widget-view+json": {
       "model_id": "71212953230a4b53b33fc5808045261d",
       "version_major": 2,
       "version_minor": 0
      },
      "text/plain": [
       "interactive(children=(IntSlider(value=1, description='a', max=50, min=-10), IntSlider(value=50, description='b…"
      ]
     },
     "metadata": {},
     "output_type": "display_data"
    }
   ],
   "source": [
    "# @hidden_cell\n",
    "\n",
    "%matplotlib inline\n",
    "import scipy as sp\n",
    "from ipywidgets import interactive\n",
    "import matplotlib.pyplot as plt\n",
    "import numpy as np\n",
    "\n",
    "def f(a = 1, b = 50):\n",
    "    if (a>=b):\n",
    "        print(\"error: a should be less than b\")\n",
    "    else:\n",
    "        x = np.arange(a, b + 1)\n",
    "        pmf = [1 / (b - a + 1)] * len(x)\n",
    "        fig, ax = plt.subplots(1, 1)\n",
    "        ax.plot(x, pmf, 'bo')\n",
    "        ax.vlines(x, 0, pmf, colors = 'k' )\n",
    "        plt.title('Discrete Uniform')\n",
    "        #plt.ylim(0, 1)\n",
    "        plt.show()\n",
    "    \n",
    "\n",
    "interactive_plot = interactive(f, a=(-10, 50), b=(-10, 50))\n",
    "output = interactive_plot.children[-1]\n",
    "output.layout.height = '350px'\n",
    "interactive_plot"
   ]
  },
  {
   "cell_type": "markdown",
   "metadata": {
    "colab_type": "text",
    "id": "qYctMIut10UX"
   },
   "source": [
    "## Quiz 2.6\n",
    "\n",
    "\n",
    "---\n",
    "\n",
    "1.   Which pairs of parameters, $a$ and $b$, do not exist for the discrete uniform distribution?\n",
    "\n",
    "        a) $a=10$, $b=15$\n",
    "        \n",
    "        b) $a=-1$, $b=0$\n",
    "        \n",
    "        c) $a=30$, $b=20$\n",
    "        \n",
    "        d) $a=10$, $b=12$\n",
    "        \n",
    "\n",
    "\n",
    "2.   How many possible outcomes does the uniform distribution with parameters $a=18$ and $b=28$ have?\n",
    "        \n",
    "        a) 9\n",
    "        \n",
    "        b) 10\n",
    "        \n",
    "        c) 11\n",
    "        \n",
    "        d) 12\n"
   ]
  },
  {
   "cell_type": "markdown",
   "metadata": {
    "colab_type": "text",
    "id": "YWgvrCH-OgGy"
   },
   "source": [
    "### Poisson Distribution\n",
    "\n",
    "Another very popular discrete probablity distribution is the Poisson (pronounced [/ˈpwɑːsɒn/](https://www.youtube.com/watch?v=bTENbblyAKE)) distribution. For example, if we are interested in the number of text messages one receives during the day (Example 2.4), we can use the Poisson distribution to model this. \n",
    "\n",
    "%%add link to IPA above for Poisson with audio recording of pronunciation\n",
    "\n",
    "The <a id='poisson'>*Poisson distribution*</a> models the number of events occurring in a fixed period of time when the times at which events occur are independent. The distribution is described by one parameter:\n",
    "\n",
    "*   $\\lambda=$ expected number of events per interval ($\\lambda>0$)\n",
    "\n",
    "To choose the parameters for the experiment described in Example 2.4, we need to know what we are expecting. Recall that we know the person usually receives about $13$ messages daily. Based off of this prior knowledge, we can expect this person to receive about $13$ messages for any day of interest. Thus, we set $\\lambda=13$. The following code in Python shows how to generate an outcome for this random experiment.\n",
    "\n"
   ]
  },
  {
   "cell_type": "code",
   "execution_count": 14,
   "metadata": {
    "colab": {
     "base_uri": "https://localhost:8080/",
     "height": 297
    },
    "colab_type": "code",
    "id": "UiG9N5XCRqAs",
    "outputId": "03c99ca5-26f9-494b-e45e-0f747376d793"
   },
   "outputs": [
    {
     "name": "stdout",
     "output_type": "stream",
     "text": [
      "8 messages were received.\n"
     ]
    }
   ],
   "source": [
    "from numpy.random import poisson\n",
    "\n",
    "# parameter lam\n",
    "lam = 13\n",
    "\n",
    "# randomly generated value for the given example.\n",
    "rand = poisson(lam, size = 1)\n",
    "\n",
    "print(rand[0], 'messages were received.')"
   ]
  },
  {
   "cell_type": "markdown",
   "metadata": {
    "colab_type": "text",
    "id": "AQWwEakiRpca"
   },
   "source": [
    "The graph of the Poisson distribution with  $\\lambda=13$ is the following:\n",
    "\n",
    "![](media/chapter2/poisson.png)\n",
    "\n",
    "To assign the Poisson distribution to a random variable `X` with PyMC3 package, use `X = pymc3.Poisson('X', lam)`.\n",
    "\n",
    "Notice how Poisson distribution changes as the parameter $\\lambda$ is changing."
   ]
  },
  {
   "cell_type": "code",
   "execution_count": 8,
   "metadata": {
    "colab": {},
    "colab_type": "code",
    "id": "yFxoOw8vRtNv"
   },
   "outputs": [
    {
     "data": {
      "application/vnd.jupyter.widget-view+json": {
       "model_id": "d653821cf0054584aa5ffe947a314d81",
       "version_major": 2,
       "version_minor": 0
      },
      "text/plain": [
       "interactive(children=(FloatSlider(value=13.0, description='lam', max=50.0, min=0.1), Output(layout=Layout(heig…"
      ]
     },
     "metadata": {},
     "output_type": "display_data"
    }
   ],
   "source": [
    "# @hidden_cell\n",
    "\n",
    "%matplotlib inline\n",
    "import scipy as sp\n",
    "from scipy.stats import poisson\n",
    "from ipywidgets import interactive\n",
    "import matplotlib.pyplot as plt\n",
    "import numpy as np\n",
    "\n",
    "def f(lam = 13):\n",
    "    fig, ax = plt.subplots(1, 1)\n",
    "    x = np.arange(0,80)\n",
    "    ax.plot(x, poisson.pmf(x, lam), 'bo')\n",
    "    ax.vlines(x, 0, poisson.pmf(x, lam), colors='k')\n",
    "    plt.xlim(-5,80)\n",
    "    plt.title('Poisson')\n",
    "    plt.show()\n",
    "\n",
    "interactive_plot = interactive(f, lam=(0.1, 50, 0.1))\n",
    "output = interactive_plot.children[-1]\n",
    "output.layout.height = '350px'\n",
    "interactive_plot"
   ]
  },
  {
   "cell_type": "markdown",
   "metadata": {
    "colab_type": "text",
    "id": "Jxpj0e0CGHub"
   },
   "source": [
    "## Quiz 2.7\n",
    "\n",
    "\n",
    "---\n",
    "\n",
    "1.   Compare $P(X=20)$ and $P(Y=50)$ if $X$ is generated by the Poisson distribution with parameter $\\lambda=20$ and $Y$ is generated by the Poisson distribution with parameter $\\lambda=50$. Which of the following is true?\n",
    "\n",
    "        a) $P(X=20)=P(Y=50)$\n",
    "        \n",
    "        b) $P(X=20)<P(Y=50)$\n",
    "        \n",
    "        c) $P(X=20)>P(Y=50)$\n",
    "\n",
    "\n",
    "2.   Let $Z$ be generated by the Poisson distribution with parameter $\\lambda=7$. How many different outcomes $k$ satisfy $P(Z=k)>0.08$?\n",
    "        \n",
    "        a) $0$\n",
    "  \n",
    "        b) $5$\n",
    "        \n",
    "        c) $8$\n",
    "        \n",
    "        d) infinitely many"
   ]
  },
  {
   "cell_type": "markdown",
   "metadata": {
    "colab_type": "text",
    "id": "lzV6wBO2NUDO"
   },
   "source": [
    "## Continuous Distributions\n",
    "---\n",
    "A random variable (or a distribution) is *continuous* if the range of a random variable are values within a continuum and thus can have an infinite number of values within a range. The probability function for a continuous distribution is called a <a id='pdf'>*probability density function*</a> or PDF. Unlike the probability mass function, the probability density function doesn't describe a probability of a specific outcome (a probability of event $X=k$ where $X$ is a random variable and $k$ is a value from the set $R(X)$). Since there are uncountably many possible outcomes, the probability of a single outcome to happen equals zero. \n",
    "\n",
    "Imagine water drops falling on a rectangular table. The surface of the table consists of uncountably many points. What is a probability that a drop will fall exactly in the middle of the table? There could be many drops that will fall very close to the middle of the table, but the probability that a drop will fall exactly in the middle or at any other specific point on the table is zero. Still, it is possible to note the areas where more drops fall compared to other areas in the case where drops of water come from a sprinkler that is located on one side of the table, or maybe drops cover table uniformly in the case where it is raining. The probability density function describes how dense the outcomes are distributed.\n",
    "\n",
    "<center><img src=\"media/chapter2/table.png\" width=\"700\"></center>\n",
    "\n",
    "How can one measure density? Let's suppose one side of the table is $5$ ft long, and keep track where the drops fall only with respect to this side of the table. We want to see how the drops are distributed after the rain has been falling for a while. Let's put $5$ containers on the table, each $1$ ft wide, so that each drop falls into one of them. Then after a while we evaluate how many drops fell into each container and obtain a histogram with $5$ bars. Now, let's instead consider $10$ containers each $6$ inches wide, then $20$ containers each $3$ inches wide and so on. As we increase the number of containers and decrease their width, the density of the number of points per container) is getting closer to the density at the specific point. In other words, the histogram is getting closer and closer to a probability density function.\n",
    "\n",
    "Now let's look at several common continuous distributions, the continuous uniform and Gaussian distributions."
   ]
  },
  {
   "cell_type": "markdown",
   "metadata": {
    "colab_type": "text",
    "id": "UgvCU6QzPep8"
   },
   "source": [
    "### Continuous Uniform Distribution\n",
    "---\n",
    "***Example 2.7.*** Suppose you are waiting for a pizza to arrive. You were told to expect the pizza delivery anytime between 2 to 15 minutes from when you ordered the pizza. When will your pizza arrive? The distribution that describes such an experiment is called the *continuous uniform distribution*.\n",
    "\n",
    "The <a id='cud'>*continuous uniform distribution*</a> (sometimes referred to as a rectangular distribution) describes a distribution where each point from the interval $[a,b]$ is equally likely to be chosen.\n",
    "\n",
    "Similar to the discrete uniform distribution, the continuous uniform distribution has two ($a$ and $b$) parameters which can be any value between $-\\infty$ and $\\infty$:\n",
    "\n",
    "*   $a$ = minimum value\n",
    "*   $b$ = maximum value\n",
    "\n",
    "In terms of our example, because your pizza will come any time between 2 and 15 minutes from now, the parameters should be  $a=2$ and $b=15$. The following code in Python shows how to generate an outcome for this random experiment."
   ]
  },
  {
   "cell_type": "code",
   "execution_count": 16,
   "metadata": {
    "colab": {
     "base_uri": "https://localhost:8080/",
     "height": 378
    },
    "colab_type": "code",
    "id": "vG2n7LXzNcyJ",
    "outputId": "0adb414b-c212-47ff-9145-edabbb654da7"
   },
   "outputs": [
    {
     "name": "stdout",
     "output_type": "stream",
     "text": [
      "The pizza will arrive in 9.806036398609734 minutes.\n"
     ]
    }
   ],
   "source": [
    "from numpy.random import uniform\n",
    "\n",
    "# parameters a and b\n",
    "a = 2\n",
    "b = 15\n",
    "\n",
    "# randomly generated value for the given example\n",
    "rand = uniform(a, b, size = 1)\n",
    "\n",
    "print('The pizza will arrive in', rand[0], 'minutes.')\n"
   ]
  },
  {
   "cell_type": "markdown",
   "metadata": {
    "colab_type": "text",
    "id": "Ss4RHihbNf_f"
   },
   "source": [
    "The graph of the continuous uniform distribution with  $a=2$  and  $b=15$  is the following:\n",
    "\n",
    "![](media/chapter2/continuousuniform.png)\n",
    "\n",
    "To assign the continuous uniform distribution to a random variable `X` with PyMC3 package, use `X = pymc3.Uniform('X', a, b)`.\n",
    "\n",
    "Notice how the graph of continuous uniform distribution changes as the parameters are changing."
   ]
  },
  {
   "cell_type": "code",
   "execution_count": 1,
   "metadata": {
    "colab": {},
    "colab_type": "code",
    "id": "BAqrgOV2Nl4j"
   },
   "outputs": [
    {
     "data": {
      "application/vnd.jupyter.widget-view+json": {
       "model_id": "af2306c04fba4428b3d403fc7c47e827",
       "version_major": 2,
       "version_minor": 0
      },
      "text/plain": [
       "interactive(children=(FloatSlider(value=2.0, description='a', max=30.0, min=-10.0), FloatSlider(value=15.0, de…"
      ]
     },
     "metadata": {},
     "output_type": "display_data"
    }
   ],
   "source": [
    "# @hidden_cell\n",
    "\n",
    "%matplotlib inline\n",
    "from ipywidgets import interactive\n",
    "import matplotlib.pyplot as plt\n",
    "import numpy as np\n",
    "\n",
    "def f(a = 2, b = 15):\n",
    "    if (a>=b):\n",
    "        print(\"error: a should be less than b\")\n",
    "    else:\n",
    "        x = np.arange(a,b+1)\n",
    "        pdf = [1/(b-a)]*len(x)\n",
    "        fig4, ax = plt.subplots()\n",
    "        plt.plot(x,pdf)\n",
    "        plt.title('Continuous Uniform Distribution')\n",
    "        plt.show()\n",
    "\n",
    "interactive_plot = interactive(f, a = (-10, 30, 0.1), b = (-10, 30, 0.1))\n",
    "output = interactive_plot.children[-1]\n",
    "output.layout.height = '350px'\n",
    "interactive_plot"
   ]
  },
  {
   "cell_type": "markdown",
   "metadata": {
    "colab_type": "text",
    "id": "OzKGe4fUGWxU"
   },
   "source": [
    "## Quiz 2.8\n",
    "\n",
    "\n",
    "---\n",
    "\n",
    "1.   Which pairs of parameters $a$ and $b$ do not exist for the continuous uniform distribution?\n",
    "\n",
    "        a) $a=2$, $b=10$\n",
    "        \n",
    "        b) $a=3$, $b=4$\n",
    "        \n",
    "        c) $a=3.5$, $b=4$\n",
    "        \n",
    "        d) $a=5.2$, $b=4.6$\n",
    "        \n",
    "\n",
    "\n",
    "2.   What does the density function of the continuous uniform distribution with parameters $a=5$ and $b=5.5$ evaluated at $x=5.1$ equal?\n",
    "        \n",
    "        a) $0.5$\n",
    "        \n",
    "        b) $1$\n",
    "        \n",
    "        c) $2$\n",
    "        \n",
    "        d) $20$"
   ]
  },
  {
   "cell_type": "markdown",
   "metadata": {
    "colab_type": "text",
    "id": "kesHXhOLPs9t"
   },
   "source": [
    "### Gaussian (normal) Distribution\n",
    "---\n",
    "\n"
   ]
  },
  {
   "cell_type": "markdown",
   "metadata": {
    "colab_type": "text",
    "id": "37C9HVleRtxB"
   },
   "source": [
    "***Example 2.8.*** You go to a <a href = \"https://en.wikipedia.org/wiki/Poke_(Native_Hawaiian_dish)\"> poke</a> shop regularly and always ask for 8 oz. of poke each time. After you buy the poke you measure its weight with a very precise experimental lab scale. As opposed to commercial grade scales, experimental lab scales are much more precise and accurate. Therefore, it shouldn't be a surprise if the actual weight of your poke bowl is actually slightly above or below the one-pound mark. \n",
    "\n",
    "Out of curiosity, you decide to keep track of the difference between the actual weight and $8$ oz. For example, if the actual weight is 8.15 oz., then you record the difference: $8.15-8=0.15$, or if the actual weight is 7.9 oz., you record $7.9-8=-0.1$. Since we asked for $8$ oz, the difference should be close to $0$ each time you buy poke. Also, we can assume that we most likely will not have more than $0.25$ oz. off of the weight you asked for. The distribution that describes such an experiment is called the *Gaussian (or normal) distribution*. \n",
    "\n",
    "The <a id='gaussian'>*gaussian distribution*</a> describes a distribution that generates data that varies or fluctuates around an average value in an expected way. The gaussian distribution has two distribution parameters:\n",
    "\n",
    "*   $\\mu$ = mean (or average), the value around which outcomes are centered. The mean is a location parameter.\n",
    "*   $\\sigma$ = standard deviation, describes how far from the mean outcomes tend to be; it is known that 95% of all outcomes appear to be between $\\mu-2\\sigma$ and $\\mu+2\\sigma$. The standard deviation is a scale parameter.\n",
    "\n",
    "For the normal distribution, approximately $68$% of the data will fall within one standard deviation ($\\sigma$) from the mean ($\\mu$), $95$% will fall within two standard deviations ($2\\sigma$), and $99.7$% of the data will fall within three standard deviations ($3\\sigma$) from the mean. \n",
    "\n",
    "![reference](media/chapter2/Empirical_Rule.PNG)\n",
    "\n",
    "In the poke example, we assume the recorded values will be centered somewhere around $0$, meaning we set $\\mu=0$. We also decided that most likely the difference in weight will be no more than 0.5 oz. Let's also assume that in our case 'most likely' means in 95% of cases. That is, 95% of the differences in weights will be between $-0.5$ and $0.5$. Therefore, $2\\sigma=0.5$, and $\\sigma=0.25$. The following code in Python shows how to generate an outcome for this random experiment.\n"
   ]
  },
  {
   "cell_type": "code",
   "execution_count": 18,
   "metadata": {
    "colab": {
     "base_uri": "https://localhost:8080/",
     "height": 378
    },
    "colab_type": "code",
    "id": "k0hxiJK6OGKO",
    "outputId": "2e6ad147-be46-4687-8701-6fac406ac8eb"
   },
   "outputs": [
    {
     "name": "stdout",
     "output_type": "stream",
     "text": [
      "The weight of poke differs from asked value by 0.4837818343958355 oz.\n"
     ]
    }
   ],
   "source": [
    "from numpy.random import normal\n",
    "\n",
    "# define the standard deviation (sigma) and mean\n",
    "sigma = 0.25\n",
    "mean = 0\n",
    "\n",
    "# randomly generated value for the given example\n",
    "rand = normal(mean, sigma, size = 1)\n",
    "\n",
    "print('The weight of poke differs from asked value by', rand[0], 'oz.')"
   ]
  },
  {
   "cell_type": "markdown",
   "metadata": {
    "colab_type": "text",
    "id": "XndxdX_ImSSA"
   },
   "source": [
    "The graph of the Gaussian distribution with  $\\mu=0$  and  $\\sigma=0.25$  is the following:\n",
    "\n",
    "![](media/chapter2/gaussian.png)\n",
    "\n",
    "To assign the Gaussian distribution to a random variable `X` with PyMC3 package, use `X = pymc3.Normal('X', a, b)`\n",
    "\n",
    "The shape of the distribution depends a lot on the parameters. Try to change the mean and standard deviation and notice how it affects the graph."
   ]
  },
  {
   "cell_type": "code",
   "execution_count": 10,
   "metadata": {
    "colab": {},
    "colab_type": "code",
    "id": "QWJcIeldTNw6"
   },
   "outputs": [
    {
     "data": {
      "application/vnd.jupyter.widget-view+json": {
       "model_id": "de4188b722f94d02ae244aba2023e11f",
       "version_major": 2,
       "version_minor": 0
      },
      "text/plain": [
       "interactive(children=(FloatSlider(value=0.0, description='mean', max=10.0, min=-10.0), FloatSlider(value=0.25,…"
      ]
     },
     "metadata": {},
     "output_type": "display_data"
    }
   ],
   "source": [
    "# @hidden_cell\n",
    "\n",
    "%matplotlib inline\n",
    "import scipy as sp\n",
    "from scipy.stats import norm\n",
    "from ipywidgets import interactive\n",
    "import matplotlib.pyplot as plt\n",
    "import numpy as np\n",
    "\n",
    "def f(mean = 0, sigma = 0.25):\n",
    "    x = np.arange(-15,15,.001)\n",
    "    pdf = norm.pdf(x, mean, sigma)\n",
    "    fig5 = plt.figure()\n",
    "    plt.plot(x, pdf)\n",
    "    plt.title('Gaussian')\n",
    "    plt.show()\n",
    "\n",
    "\n",
    "interactive_plot = interactive(f, mean=(-10, 10, 0.1), sigma=(0.01, 10, 0.01))\n",
    "output = interactive_plot.children[-1]\n",
    "output.layout.height = '350px'\n",
    "interactive_plot"
   ]
  },
  {
   "cell_type": "markdown",
   "metadata": {
    "colab_type": "text",
    "id": "WEUPdwlPGfMl"
   },
   "source": [
    "## Quiz 2.9\n",
    "\n",
    "\n",
    "---\n",
    "\n",
    "1.   Let $X$ be generated by the Gaussian distribution with parameters $\\mu=0$ and $\\sigma=2.5$. If $\\sigma$ is increased to $6$, how will $P(X=0)$ change?\n",
    "\n",
    "        a) $P(X=0)$ will not change\n",
    "        \n",
    "        b) the value will increase\n",
    "        \n",
    "        c) the value will decrease\n",
    "        \n",
    "\n",
    "\n",
    "2.   Which of the following is an alternative name for the Gaussian distribution?\n",
    "        \n",
    "        a) uniform\n",
    "        \n",
    "        b) normal\n",
    "        \n",
    "        c) Poisson"
   ]
  },
  {
   "cell_type": "markdown",
   "metadata": {
    "colab_type": "text",
    "id": "F_L_yWZ3PQsP"
   },
   "source": [
    "%%%hidden part for those who want to learn more\n",
    "\n",
    "## Data Types and Classification\n",
    "\n",
    "In addition to distributions, data can also be classified as discrete or continuous. \n",
    "\n",
    "<u>Examples of discrete data types</u>\n",
    "\n",
    "*   *ordinal data*: categorical data that has ordering (ex: letter grade on an exam)\n",
    "*   *count data*: number of observations (ex: number of people in a class)\n",
    "*   *nominal data*: categorical data that does not have ordering (ex: hair or eye color)\n",
    "\n",
    "\n",
    "<u>Examples of continuous data types</u>\n",
    "\n",
    "*   *ratio scale data*: zero point is fixed (ex: temperature in Kelvin)\n",
    "*   *interval scale data*: zero point is not fixed (ex: temperature in Fahrenheit or Celsius)\n",
    "\n",
    "\n",
    "%%% end of hidden part"
   ]
  },
  {
   "cell_type": "markdown",
   "metadata": {
    "colab_type": "text",
    "id": "CzoON5XeHabT"
   },
   "source": [
    "## How does this all relate to probabilistic programming?\n",
    "\n",
    "You are likely wondering right now why we've dedicated an entire chapter of this module to probability. It may not be obvious now, but these concepts are all used in probabilistic programming. \n",
    "\n",
    "For instance, how do the PMF and PDF relate back to probabilistic programming? The PMF (or PDF, depending on the situation) are used in probabilistic programming when sampling the data (the sampled data are proportional to the prior distribution; this will be explained in greater detail in the next chapter). Also knowledge of common distributions such as the binomial or gaussian distributions allow for a more informed decision when constructing a generative model.\n",
    "\n",
    "**Example 2.9.** You are given a dataset that describes the number of Hawaiʻi Police Department (HPD) traffic incidents per day between July 15 and October 15 of 2018 (92 days total). Previous studies have shown that there is a sudden increase in the number of incidents during the given period of time. A research group has determined that the average number of incidents before the increase is 186 and the average number of incidents after the sudden jump is 224. Your job is to determine on what day the increase happened.\n",
    "\n",
    "![alt text](media/chapter2/binomial_HPD.png)\n",
    "\n",
    "What distribution describes the number of incidents that happened during the day? The Poisson distribution describes this situation the best. Recall that it has a parameter $\\lambda$ that is the expected number of incidents happened during the day. If you expect traffic behavior to be the same during these 92 days, then the number of traffic incidents occurring each day is generated by the Poisson distribution with the same parameter (prior) $\\lambda$. \n",
    "\n",
    "From the information received however, we know about a sudden jump. This means the generative model has to be adjusted accordingly. \n",
    "\n",
    "We assume that there is a rapid switch in behavior on day $D$. The number of incidents happened each day before day $D$ was generated according to Poisson distribution with parameter $\\lambda_1$, after that according to the Poisson distribution with parameter $\\lambda_2$. Based on the observed data we want to analyze when the switch in the behavior happened.\n",
    "\n",
    "Note that we also know the parameters $\\lambda_1$ and $\\lambda_2$ from the research group. Therefore, $\\lambda_1=186$ and $\\lambda_2=224$.\n",
    "\n",
    "Let's build model that describes the above behavior in PyMC3.\n",
    "\n",
    "First, we import the PyMC3 package\n",
    "\n",
    "\n",
    "```\n",
    "import pymc3 as pm\n",
    "```\n",
    "\n",
    "Then we need to create the model within the context of a Model object. We start with creating the variable `switch` that represents the day where the change of habits happened. Since it should happen somewhere between Day 1 (July, 15) and Day 92 (October, 15), we use discrete uniform distribution with parameters $a=1$  and $b=92$.\n",
    "\n",
    "```\n",
    "with pm.Model() as HPD_model:\n",
    "  switch=pm.DiscreteUniform(\"switch\", 1, 92)\n",
    "```\n",
    "\n",
    "We also need to add information about  $\\lambda_1$ and $\\lambda_2$ to our model.\n",
    "\n",
    "```\n",
    "with HPD_model:\n",
    "  lam_1 = 186\n",
    "  lam_2 = 224\n",
    "```\n",
    "Our model has to generate the data, namely it has to generate a number of incidents for each of 92 days where number of incidents during the day is generated by Poisson distribution with either parameter `lam_1` or `lam_2`. Therefore, we want to generate an array of 92 elements, each with a Poisson distribution with parameter equal to either `lam_1` or `lam_2` depending on the `switch` variable. So first of all, we need to create an array `lam` that will keep track of which of the parameters has to be used for chosen day.\n",
    "\n",
    "```\n",
    "with HPD_model:\n",
    "  day = np.arange(1, 92)\n",
    "  lambda_ = pm.math.switch(day < switch, lambda_1, lambda_2)\n",
    "\n",
    "```\n",
    "`pm.math.switch(CONDITION, A, B)` returns `A` if `CONDITION==true` and returns `B` otherwise. Since `day` is an array, `day < switch` is an array of 1's and 0's. For each element of array `day < switch` `pm.math.switch()` returns either `lam_1` or `lam_2`, which makes `lam` an array as well.\n",
    "\n",
    "The last step in creating the model is to generate the number of text messages received for each day, as well as include the observed data stored in the variable `HPD_data`\n",
    "\n",
    "```\n",
    "with HPD_model:\n",
    "  observation = pm.Poisson(\"obs\", lam, observed = HPD_data)\n",
    "```\n",
    "\n",
    "In the next chapter, we will explain specific concepts of probabilistic programming and demonstrate how to finish this example in PyMC3. "
   ]
  },
  {
   "cell_type": "code",
   "execution_count": null,
   "metadata": {
    "colab": {},
    "colab_type": "code",
    "id": "fHjw12xIrSri"
   },
   "outputs": [],
   "source": [
    "import pymc3 as pm\n",
    "import numpy as np\n",
    "\n",
    "HPD_data = [183, 181, 155, 177, 193, 174, 187, 181, 178, 196, 187, 171,\n",
    " 181, 194, 178, 201, 183, 192, 212, 159, 179, 195, 190, 206, 171, 195,\n",
    " 177, 184, 202, 175, 173, 195, 207, 216, 225, 246, 197, 250, 217, 250,\n",
    " 229, 230, 216, 239, 222, 224, 231, 225, 204, 227, 237, 225, 211, 209,\n",
    " 235, 241, 209, 196, 246, 215, 241, 238, 233, 235, 202, 214, 225, 230, \n",
    " 187, 220, 234, 206, 228, 234, 242, 189, 250, 233, 225, 246, 224, 211,\n",
    " 201, 217, 219, 224, 225, 251, 222, 220, 222, 202]\n",
    "\n",
    "with pm.Model() as HPD_model:\n",
    "    switch = pm.DiscreteUniform(\"switch\", 1, 92)\n",
    "    lam_1 = 186\n",
    "    lam_2 = 224\n",
    "  \n",
    "    day = np.arange(1, 92+1)\n",
    "  \n",
    "    lam = pm.math.switch(day < switch, lam_1, lam_2)\n",
    "  \n",
    "    observation = pm.Poisson(\"obs\", lam, observed = HPD_data)"
   ]
  },
  {
   "cell_type": "markdown",
   "metadata": {
    "colab_type": "text",
    "id": "fGFY17mfG7z8"
   },
   "source": [
    "## Quiz 2.10\n",
    "\n",
    "\n",
    "---\n",
    "\n",
    "1.  Determine $a$ and $b$ for which `pm.math.switch(a < b, 1, 0)` returns 1.\n",
    "\n",
    "       a) $a=10$, $b=7$\n",
    "       \n",
    "       b) $a=0$, $b=1$\n",
    "       \n",
    "       c) $a=-10$, $b=-10$\n",
    "       \n",
    "       d) $a=101$, $b=100$\n",
    "        \n",
    "        \n",
    "\n",
    "2.   `pm.math.switch([20, 10, 3] < 5, 100, 200) =`\n",
    "        \n",
    "        a) 200\n",
    "        \n",
    "        b) False\n",
    "        \n",
    "        c) [200, 200, 100]\n",
    "        \n",
    "        d) [False, False, True]\n",
    "        \n",
    "        e) There is no correct answer"
   ]
  },
  {
   "cell_type": "markdown",
   "metadata": {
    "colab_type": "text",
    "id": "cwNSjyu6q5Kv"
   },
   "source": [
    "### <u>Definitions</u>\n",
    "\n",
    "\n",
    "<a href='#probability'>**probability (p)**</a>: a function that assigns a value between $0$ and $1$ denoted by  $P(A)$ to each event $A$ of the sample space $S$.\n",
    "\n",
    "<a href='#sample space'>**sample space (S)**</a>: a set of all possible outcomes of an experiment.\n",
    "\n",
    "<a href='#event'>**event**</a>: a subset of the sample space.\n",
    "\n",
    "<a href='#random variable'>**random variable (X)**</a>: the transition from a textual description of an experiment to a numerical encoding.\n",
    "\n",
    "<a href='#range'>**range of a random variable (R(X))**</a>: the set of all values a random variable can take on.\n",
    "\n",
    "<a href='#distribution'>**probability distribution**</a>:  an assignment of a probability to each value in the range of a random variable, where the probabilities sum to one.\n",
    "\n",
    "<a href='#binomial'>**binomial distribution**</a>: a distribution where the range of a random variable is dichotomous and described by two parameters ($n$ = number of trials, $p$ = odds of success, expressed as a number between $0$ and $1$)\n",
    "\n",
    "<a href='#distpar'>**distribution parameter**</a>: a statistical parameter that describes the shape and location of a distribution.\n",
    "\n",
    "<a href='#discrete'>**discrete distribution**</a>: a distribution where the distribution and range of a random variable are countable.\n",
    "\n",
    "<a href='#continuous'>**continuous distribution**</a>: a distribution where the distribution and range of a random variable are not countable (i.e. the values exist on a continuum/have an infinite number of possible values).\n",
    "\n",
    "<a href='#pmf'>**probability mass function (PMF)**</a>: the probability function that describes a discrete distribution. For each value $k$ of a random variable $X$, the probability is described by $P({X=k})$ for an event $\\{X=k\\}$.\n",
    "\n",
    "<a href='#dud'>**discrete uniform distribution**</a>:  a distribution with a finite number of equally spaced and equally likely outcomes and is described by two parameters ($a =$ minimum value, $b =$ maximum value).\n",
    "\n",
    "<a href='#poisson'>**Poisson distribution**</a>: a distribution that is described by the number of events occurring in a fixed period of time. The times at which events occur are independent and the distribution is described by one parameter ($\\lambda=$ expected number of occurences).\n",
    "\n",
    "<a href='#pdf'>**probability density function (PDF)**</a>: the probability function that describes a continuous distribution is called a *probability density function* or PDF. Unlike the PMF, the probability of a single outcome is equal to zero.\n",
    "\n",
    "<a href='#cud'>**continuous uniform (rectangular) distribution**</a>: a distribution where each point from the interval $[a,b]$ is equally likely to be chosen. It is described by two parameters ($a =$ minimum value, $b =$ maximum value).\n",
    "\n",
    "<a href='#gaussian'>**Gaussian (normal) distribution**</a>: a distribution that generates data that varies or fluctuates around an average value in an expected way (where approximately $68$% of the data will fall within one standard deviation ($\\sigma$) from the mean ($\\mu$), $95$% will fall within two standard deviations ($2\\sigma$), and $99.7$% of the data will fall within three standard deviations ($3\\sigma$) from the mean). The Gaussian distribution is described by two parameters ($\\mu$ = mean (or average) is a location parameters and refers to the value around which outcomes are centered.  $\\sigma$ = standard deviation is a scale parameter and describes how far from the mean outcomes can be; it is known that 95% of all otcomes appear to be between $\\mu-2\\sigma$ and $\\mu+2\\sigma$).\n",
    "\n",
    "\n",
    "\n",
    "\n",
    "\n",
    "\n"
   ]
  },
  {
   "cell_type": "code",
   "execution_count": null,
   "metadata": {
    "colab": {},
    "colab_type": "code",
    "id": "FskiUG4PDUIP"
   },
   "outputs": [],
   "source": []
  }
 ],
 "metadata": {
  "colab": {
   "collapsed_sections": [],
   "name": "PP_2_Probability.ipynb",
   "provenance": [],
   "version": "0.3.2"
  },
  "kernelspec": {
   "display_name": "Python 3",
   "language": "python",
   "name": "python3"
  },
  "language_info": {
   "codemirror_mode": {
    "name": "ipython",
    "version": 3
   },
   "file_extension": ".py",
   "mimetype": "text/x-python",
   "name": "python",
   "nbconvert_exporter": "python",
   "pygments_lexer": "ipython3",
   "version": "3.6.3"
  }
 },
 "nbformat": 4,
 "nbformat_minor": 1
}
