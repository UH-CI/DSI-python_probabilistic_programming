{
 "cells": [
  {
   "cell_type": "markdown",
   "metadata": {
    "colab_type": "text",
    "id": "8-rGwdGJwO5t"
   },
   "source": [
    "# Chapter 1\n",
    "\n",
    "# Exercises"
   ]
  },
  {
   "cell_type": "markdown",
   "metadata": {
    "colab_type": "text",
    "id": "Bmn4zyPH2fNz"
   },
   "source": [
    "## Exercise 1\n",
    "\n",
    "A [conveyor belt sushi](https://en.wikipedia.org/wiki/Conveyor_belt_sushi) restaurant makes sushi on three different kinds of plates: green ($\\$$2), red($\\$$3) and yellow($\\$$4). The probabilities of green, red or yellow plate to appear next on the conveyor are $2/10$, $5/10$ and $3/10$ respectively.\n",
    "\n",
    "The generative model that describes this problem is the following:\n",
    "\n",
    "<img src='media/exercises1/sushi.jpg' width=60%>\n",
    "\n",
    "With the help of example of Generative model of a cold from Chapter 1 write the code that generates the color of the plate that will apper next."
   ]
  },
  {
   "cell_type": "markdown",
   "metadata": {
    "colab_type": "text",
    "id": "rE46wZNvsMcP"
   },
   "source": [
    "## Exercise 2\n",
    "\n",
    "A coffee shop sells lattes with flavoured syrups and toppings. The following lattes are available:\n",
    "\n",
    "* Caramel Latte with whipped cream topping\n",
    "* Caramel Latte with chocolate topping\n",
    "* Hazelnut Latte with cinammon topping\n",
    "* Hazelnut Latte with chocolate topping\n",
    "* Vanilla Latte with whipped cream topping\n",
    "* Vanilla Latte with cinammon topping\n",
    "\n",
    "Some flavours are more popular than others. At first, barista adds syrup to a latte. It is known that out of 10 lattes ordered in the coffee shop, 4 are Vanilla, 3 are Caramel and 3 are Hazelnut flavoured.\n",
    "In the end, barista adds a topping of choice. Statistics shows that:\n",
    "\n",
    "* Out of 10 Caramel lattes ordered, 7 have whipped cream topping and 3 have chocolate topping\n",
    "* Out of 10 Hazelnut lattes ordered, 4 have cinammon topping and 6 have chocolate topping\n",
    "* Out of 10 Vanilla lattes ordered, 2 have whipped cream topping and 8 have cinnamon topping\n",
    "\n",
    "Construct a generative model for this problem that could answer the question: what is the probability of latte to have hazelnat syrup in it given that it has cinammon topping? You only need to construct a model, not to answer the question."
   ]
  },
  {
   "cell_type": "markdown",
   "metadata": {
    "colab_type": "text",
    "id": "txUXLhSiuEO2"
   },
   "source": [
    "## Exercise 3\n",
    "\n",
    "A coffee shop sells americanos, espressos, lattes and cappuccinos. Fill in the blanks so that the histogram represents drinks sold in the coffee shop between 8am and 9am given the following list.\n",
    "\n",
    "<img src='media/exercises1/coffee.png' align = \"left\">\n"
   ]
  },
  {
   "cell_type": "code",
   "execution_count": 1,
   "metadata": {},
   "outputs": [
    {
     "data": {
      "application/vnd.jupyter.widget-view+json": {
       "model_id": "bdc1f8acc21841ec9089818493608daa",
       "version_major": 2,
       "version_minor": 0
      },
      "text/plain": [
       "interactive(children=(IntText(value=0, description='americano'), IntText(value=0, description='espresso'), Int…"
      ]
     },
     "metadata": {},
     "output_type": "display_data"
    },
    {
     "name": "stdout",
     "output_type": "stream",
     "text": [
      "\n"
     ]
    }
   ],
   "source": [
    "# @hidden_cell\n",
    "\n",
    "% matplotlib inline\n",
    "import matplotlib.pyplot as plt\n",
    "from ipywidgets import IntText, VBox, interact, IntSlider\n",
    "\n",
    "drinks = ['americano', 'espresso', 'latte', 'cappuccino']\n",
    "#items = [IntText(description = d, min = 0) for d in drinks]\n",
    "#box = VBox(items)\n",
    "#display(box)\n",
    "\n",
    "def f(americano, espresso, latte, cappuccino):\n",
    "    plt.bar(drinks, [americano, espresso, latte, cappuccino])\n",
    "    plt.show()\n",
    "\n",
    "    \n",
    "interact(f, americano=IntText(min=0, step=1, value=0), \n",
    "         espresso=IntText(min=0, step=1, value=0),\n",
    "        latte=IntText(min=0, step=1, value=0),\n",
    "        cappuccino=IntText(min=0, step=1, value=0))\n",
    "\n",
    "print('')"
   ]
  },
  {
   "cell_type": "markdown",
   "metadata": {
    "colab_type": "text",
    "id": "2mMpymkqvE1Z"
   },
   "source": [
    "## Exercise 4\n",
    "\n",
    "Install pymc3 on your computer."
   ]
  },
  {
   "cell_type": "markdown",
   "metadata": {
    "colab_type": "text",
    "id": "fUKfIONWvL8O"
   },
   "source": [
    "## Exercise 5\n",
    "\n",
    "Run the code from Section 'PyMC3' of chapter 1. Is the result you obtain similar to the one in the Section?"
   ]
  },
  {
   "cell_type": "markdown",
   "metadata": {
    "colab_type": "text",
    "id": "w1E5xdwzwEqC"
   },
   "source": [
    "## Exercise 6\n",
    "\n",
    "Suppose Version A was tested on 100 people and 79 of them signed up; and Version B was tested on 200 users and 97 of them signed up.\n",
    "\n",
    "How will the parameters of Binomial distributions change? Update the code from exercise 6.\n",
    "\n",
    "Which Version is better given the new observed data?\n"
   ]
  },
  {
   "cell_type": "code",
   "execution_count": 0,
   "metadata": {
    "colab": {},
    "colab_type": "code",
    "id": "UpHxHuY1uKmF"
   },
   "outputs": [],
   "source": []
  }
 ],
 "metadata": {
  "colab": {
   "collapsed_sections": [],
   "name": "PP_Exercises1.ipynb",
   "provenance": [],
   "version": "0.3.2"
  },
  "kernelspec": {
   "display_name": "Python 3",
   "language": "python",
   "name": "python3"
  },
  "language_info": {
   "codemirror_mode": {
    "name": "ipython",
    "version": 3
   },
   "file_extension": ".py",
   "mimetype": "text/x-python",
   "name": "python",
   "nbconvert_exporter": "python",
   "pygments_lexer": "ipython3",
   "version": "3.6.3"
  }
 },
 "nbformat": 4,
 "nbformat_minor": 1
}
