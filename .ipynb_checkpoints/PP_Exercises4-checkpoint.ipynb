{
 "cells": [
  {
   "cell_type": "markdown",
   "metadata": {},
   "source": [
    "# Chapter 4. Exercises"
   ]
  },
  {
   "cell_type": "markdown",
   "metadata": {},
   "source": [
    "## Exercise 1\n",
    "\n",
    "Create a hierarchical model using the `Tips` dataset, which describes the money recieved in tips based on the customer and time of dining:"
   ]
  },
  {
   "cell_type": "code",
   "execution_count": null,
   "metadata": {},
   "outputs": [],
   "source": [
    "import seaborn as sns\n",
    "\n",
    "tips = sns.load_dataset('tips')\n",
    "\n",
    "tips.head()"
   ]
  },
  {
   "cell_type": "markdown",
   "metadata": {},
   "source": [
    "Use the `tip`, `day`, and `time` columns to determine how both the day or the week and the time affect the amount recieved in tips (hint: you'll want to convert the 'day' column from categorical to a dummy numerical index).\n",
    "\n",
    "    a. Construct a generative model for the problem.\n",
    "\n",
    "    b. Create a (non-hierarchical) model in PyMC3 that models the tips received on a given day of the week.\n",
    "\n",
    "    c. Create a hierarchical model in PyMC3 that models the tips received on weekends vs. weekdays and time (i.e. breakfast, lunch, dinner)."
   ]
  },
  {
   "cell_type": "markdown",
   "metadata": {},
   "source": [
    "## Exercise 2\n",
    "\n",
    "Perform mock up data analysis for the non-hierarchical model you created above."
   ]
  },
  {
   "cell_type": "markdown",
   "metadata": {},
   "source": [
    "## Exercise 3\n",
    "\n",
    "We are interested in modeling yearly sales revenue for a website that offers training using a membership model. In short, the website charges a monthly fee ($40.00) and enrollees can take as much time as needed to complete their training. Enrollees can quit the platform anytime without completing the training. Enrollment starts at the beginning of the year.\n",
    "\n",
    "The data provider knows that:\n",
    "  * Users have a small probability of dropping each month. The probability of dropping decays (declines) as the users get close to completing the training, i.e., the longer a user has paid, the less likely they are to give up on their investment and leave the platform before completing the training.\n",
    "  \n",
    "The data provider only has the following data for the last 10 years (assume the behavior was similar for each year):\n",
    "    * the number of enrollees for a year\n",
    "    * the total revenue\n",
    "    \n",
    "The data provider is interested in the percentage of users that kept the membership for a year.\n",
    "\n",
    "Your task is to build a generative model, which can be used to answer the data provider's question. The following diagram will help you with that\n",
    "\n",
    "<img src=\"media/exercises4/generative_model_diagram.png\" alt=\"drawing\" style=\"width:700px;\"/>\n",
    "\n"
   ]
  },
  {
   "cell_type": "code",
   "execution_count": 13,
   "metadata": {},
   "outputs": [],
   "source": [
    "enrollees = [60578,45876,39758,70467,50800,70857,68004,48044,64380,77854]\n",
    "revenue = [18900320, 14313320, 12404480, 21985720, 15849600,\n",
    " 22107400, 21217240, 14989720, 20086560, 24290440]"
   ]
  },
  {
   "cell_type": "markdown",
   "metadata": {},
   "source": [
    "## Exercise 4\n",
    "\n",
    "Create a Gaussian mixture model using the `Iris` dataset, which describes characteristics of iris flowers, by species.\n",
    "\n",
    "Use the `petal_length` and `species` columns to create the mixture model in PyMC3."
   ]
  },
  {
   "cell_type": "code",
   "execution_count": null,
   "metadata": {},
   "outputs": [],
   "source": [
    "import seaborn as sns\n",
    "\n",
    "iris = sns.load_dataset('iris')\n",
    "\n",
    "iris.head()"
   ]
  },
  {
   "cell_type": "markdown",
   "metadata": {},
   "source": [
    "## Exercise 5\n",
    "\n",
    "Perform a posterior predictive check on the `Iris` dataset.\n"
   ]
  },
  {
   "cell_type": "code",
   "execution_count": null,
   "metadata": {},
   "outputs": [],
   "source": []
  }
 ],
 "metadata": {
  "kernelspec": {
   "display_name": "Python 3",
   "language": "python",
   "name": "python3"
  },
  "language_info": {
   "codemirror_mode": {
    "name": "ipython",
    "version": 3
   },
   "file_extension": ".py",
   "mimetype": "text/x-python",
   "name": "python",
   "nbconvert_exporter": "python",
   "pygments_lexer": "ipython3",
   "version": "3.6.3"
  }
 },
 "nbformat": 4,
 "nbformat_minor": 2
}
